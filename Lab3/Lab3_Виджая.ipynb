{
  "nbformat": 4,
  "nbformat_minor": 0,
  "metadata": {
    "colab": {
      "provenance": []
    },
    "kernelspec": {
      "name": "python3",
      "display_name": "Python 3"
    },
    "language_info": {
      "name": "python"
    }
  },
  "cells": [
    {
      "cell_type": "code",
      "execution_count": 1,
      "metadata": {
        "colab": {
          "base_uri": "https://localhost:8080/"
        },
        "id": "gveBl7uZagK5",
        "outputId": "dedbc5a5-a5a7-40f6-ead4-e858ee205b57"
      },
      "outputs": [
        {
          "output_type": "stream",
          "name": "stdout",
          "text": [
            "Mounted at /content/drive\n"
          ]
        }
      ],
      "source": [
        "from google.colab import drive\n",
        "drive.mount('/content/drive')"
      ]
    },
    {
      "cell_type": "code",
      "source": [
        "import nltk\n",
        "from nltk.tokenize import word_tokenize"
      ],
      "metadata": {
        "id": "YxADoXYfbfqj"
      },
      "execution_count": 2,
      "outputs": []
    },
    {
      "cell_type": "code",
      "source": [
        "from nltk import sent_tokenize"
      ],
      "metadata": {
        "id": "pE2SqZUW9u4U"
      },
      "execution_count": 12,
      "outputs": []
    },
    {
      "cell_type": "code",
      "source": [
        "nltk.download('punkt')"
      ],
      "metadata": {
        "colab": {
          "base_uri": "https://localhost:8080/"
        },
        "id": "Ao7Z0ePjb4CW",
        "outputId": "1fe4bdaf-aa2a-4f5f-cf0e-d39774a7f175"
      },
      "execution_count": 3,
      "outputs": [
        {
          "output_type": "stream",
          "name": "stderr",
          "text": [
            "[nltk_data] Downloading package punkt to /root/nltk_data...\n",
            "[nltk_data]   Unzipping tokenizers/punkt.zip.\n"
          ]
        },
        {
          "output_type": "execute_result",
          "data": {
            "text/plain": [
              "True"
            ]
          },
          "metadata": {},
          "execution_count": 3
        }
      ]
    },
    {
      "cell_type": "code",
      "source": [
        "!pip install rnnmorph"
      ],
      "metadata": {
        "colab": {
          "base_uri": "https://localhost:8080/"
        },
        "id": "nhN47cIjb5bH",
        "outputId": "728fb260-9237-45e0-f877-90d7dd3a1abb"
      },
      "execution_count": 4,
      "outputs": [
        {
          "output_type": "stream",
          "name": "stdout",
          "text": [
            "Collecting rnnmorph\n",
            "  Downloading rnnmorph-0.4.1.tar.gz (19.7 MB)\n",
            "\u001b[2K     \u001b[90m━━━━━━━━━━━━━━━━━━━━━━━━━━━━━━━━━━━━━━━━\u001b[0m \u001b[32m19.7/19.7 MB\u001b[0m \u001b[31m37.0 MB/s\u001b[0m eta \u001b[36m0:00:00\u001b[0m\n",
            "\u001b[?25h  Preparing metadata (setup.py) ... \u001b[?25l\u001b[?25hdone\n",
            "Requirement already satisfied: numpy>=1.12.1 in /usr/local/lib/python3.10/dist-packages (from rnnmorph) (1.23.5)\n",
            "Requirement already satisfied: scipy>=0.19.0 in /usr/local/lib/python3.10/dist-packages (from rnnmorph) (1.11.3)\n",
            "Requirement already satisfied: scikit-learn>=0.18.1 in /usr/local/lib/python3.10/dist-packages (from rnnmorph) (1.2.2)\n",
            "Requirement already satisfied: keras>=2.1.4 in /usr/local/lib/python3.10/dist-packages (from rnnmorph) (2.14.0)\n",
            "Requirement already satisfied: h5py>=2.7.0 in /usr/local/lib/python3.10/dist-packages (from rnnmorph) (3.9.0)\n",
            "Collecting pymorphy2>=0.8 (from rnnmorph)\n",
            "  Downloading pymorphy2-0.9.1-py3-none-any.whl (55 kB)\n",
            "\u001b[2K     \u001b[90m━━━━━━━━━━━━━━━━━━━━━━━━━━━━━━━━━━━━━━━━\u001b[0m \u001b[32m55.5/55.5 kB\u001b[0m \u001b[31m7.0 MB/s\u001b[0m eta \u001b[36m0:00:00\u001b[0m\n",
            "\u001b[?25hCollecting russian-tagsets==0.6 (from rnnmorph)\n",
            "  Downloading russian-tagsets-0.6.tar.gz (23 kB)\n",
            "  Preparing metadata (setup.py) ... \u001b[?25l\u001b[?25hdone\n",
            "Requirement already satisfied: tqdm>=4.14.0 in /usr/local/lib/python3.10/dist-packages (from rnnmorph) (4.66.1)\n",
            "Requirement already satisfied: jsonpickle>=0.9.4 in /usr/local/lib/python3.10/dist-packages (from rnnmorph) (3.0.2)\n",
            "Requirement already satisfied: nltk>=3.2.5 in /usr/local/lib/python3.10/dist-packages (from rnnmorph) (3.8.1)\n",
            "Requirement already satisfied: click in /usr/local/lib/python3.10/dist-packages (from nltk>=3.2.5->rnnmorph) (8.1.7)\n",
            "Requirement already satisfied: joblib in /usr/local/lib/python3.10/dist-packages (from nltk>=3.2.5->rnnmorph) (1.3.2)\n",
            "Requirement already satisfied: regex>=2021.8.3 in /usr/local/lib/python3.10/dist-packages (from nltk>=3.2.5->rnnmorph) (2023.6.3)\n",
            "Collecting dawg-python>=0.7.1 (from pymorphy2>=0.8->rnnmorph)\n",
            "  Downloading DAWG_Python-0.7.2-py2.py3-none-any.whl (11 kB)\n",
            "Collecting pymorphy2-dicts-ru<3.0,>=2.4 (from pymorphy2>=0.8->rnnmorph)\n",
            "  Downloading pymorphy2_dicts_ru-2.4.417127.4579844-py2.py3-none-any.whl (8.2 MB)\n",
            "\u001b[2K     \u001b[90m━━━━━━━━━━━━━━━━━━━━━━━━━━━━━━━━━━━━━━━━\u001b[0m \u001b[32m8.2/8.2 MB\u001b[0m \u001b[31m68.9 MB/s\u001b[0m eta \u001b[36m0:00:00\u001b[0m\n",
            "\u001b[?25hCollecting docopt>=0.6 (from pymorphy2>=0.8->rnnmorph)\n",
            "  Downloading docopt-0.6.2.tar.gz (25 kB)\n",
            "  Preparing metadata (setup.py) ... \u001b[?25l\u001b[?25hdone\n",
            "Requirement already satisfied: threadpoolctl>=2.0.0 in /usr/local/lib/python3.10/dist-packages (from scikit-learn>=0.18.1->rnnmorph) (3.2.0)\n",
            "Building wheels for collected packages: rnnmorph, russian-tagsets, docopt\n",
            "  Building wheel for rnnmorph (setup.py) ... \u001b[?25l\u001b[?25hdone\n",
            "  Created wheel for rnnmorph: filename=rnnmorph-0.4.1-py3-none-any.whl size=19746351 sha256=4606ac91ee77f5da6223eabb539c6617d8bf38dcb9be024859e4dd836d973721\n",
            "  Stored in directory: /root/.cache/pip/wheels/3d/da/6d/75c269badb3cdb41785bb5e878ce0c044ec164e4587972dc9a\n",
            "  Building wheel for russian-tagsets (setup.py) ... \u001b[?25l\u001b[?25hdone\n",
            "  Created wheel for russian-tagsets: filename=russian_tagsets-0.6-py3-none-any.whl size=24621 sha256=4b5c939fd8d3a834d9a23928eeceacd24183bcca973b37d57016a6815819657c\n",
            "  Stored in directory: /root/.cache/pip/wheels/d1/f9/53/8609e08636dbe4bad244c50e3a16ab4d824928e7342059784d\n",
            "  Building wheel for docopt (setup.py) ... \u001b[?25l\u001b[?25hdone\n",
            "  Created wheel for docopt: filename=docopt-0.6.2-py2.py3-none-any.whl size=13706 sha256=5d991e217814f4b0f9f0d4de4e1dad6d9e8f8fab5c603a9f5c73e3c05259075c\n",
            "  Stored in directory: /root/.cache/pip/wheels/fc/ab/d4/5da2067ac95b36618c629a5f93f809425700506f72c9732fac\n",
            "Successfully built rnnmorph russian-tagsets docopt\n",
            "Installing collected packages: russian-tagsets, pymorphy2-dicts-ru, docopt, dawg-python, pymorphy2, rnnmorph\n",
            "Successfully installed dawg-python-0.7.2 docopt-0.6.2 pymorphy2-0.9.1 pymorphy2-dicts-ru-2.4.417127.4579844 rnnmorph-0.4.1 russian-tagsets-0.6\n"
          ]
        }
      ]
    },
    {
      "cell_type": "code",
      "source": [
        "from rnnmorph.predictor import RNNMorphPredictor"
      ],
      "metadata": {
        "id": "eEBCL4KXb-7L"
      },
      "execution_count": 5,
      "outputs": []
    },
    {
      "cell_type": "code",
      "source": [
        "predictor = RNNMorphPredictor(language=\"ru\")"
      ],
      "metadata": {
        "id": "3dPNIpyecBKa"
      },
      "execution_count": 6,
      "outputs": []
    },
    {
      "cell_type": "code",
      "source": [
        "root = '/content/drive/MyDrive/TSU/Lab_NLP/Lab3/'\n",
        "filename = 'text.txt'"
      ],
      "metadata": {
        "id": "eufDHSPXcDXG"
      },
      "execution_count": 7,
      "outputs": []
    },
    {
      "cell_type": "code",
      "source": [
        "f = open(root+filename)"
      ],
      "metadata": {
        "id": "0R4cE0nzcIrI"
      },
      "execution_count": 8,
      "outputs": []
    },
    {
      "cell_type": "code",
      "source": [
        "text = f.read()\n",
        "text"
      ],
      "metadata": {
        "colab": {
          "base_uri": "https://localhost:8080/",
          "height": 140
        },
        "id": "00Ogv7-TcKIH",
        "outputId": "37d4a203-89ee-4842-ab68-df32a662606e"
      },
      "execution_count": 9,
      "outputs": [
        {
          "output_type": "execute_result",
          "data": {
            "text/plain": [
              "'Когда человек сознательно или интуитивно выбирает себе в жизни какую-то цель, жизненную задачу, он невольно дает себе оценку. По тому, ради чего человек живет, можно судить и о его самооценке - низкой или высокой.\\n\\nЕсли человек живет, чтобы приносить людям добро, облегчать их страдания, давать людям радость, то он оценивает себя на уровне этой своей человечности. Он ставит себе цель, достойную человека.\\n\\nТолько такая цель позволяет человеку прожить свою жизнь с достоинством и получить настоящую радость. Да, радость! Подумайте: если человек ставит себе задачей увеличивать в жизни добро, приносить людям счастье, какие неудачи могут его постигнуть? Не тому помочь? Но много ли людей не нуждаются в помощи?\\n\\nЕсли жить только для себя, своими мелкими заботами о собственном благополучии, то от прожитого не останется и следа. Если же жить для других, то другие сберегут то, чему служил, чему отдавал силы.\\n\\nМожно по-разному определять цель своего существования, но цель должна быть. Надо иметь и принципы в жизни. Одно правило в жизни должно быть у каждого человека, в его цели жизни, в его принципах жизни, в его поведении: надо прожить жизнь с достоинством, чтобы не стыдно было вспоминать.\\n\\nДостоинство требует доброты, великодушия, умения не быть эгоистом, быть правдивым, хорошим другом, находить радость в помощи другим.\\n\\nРади достоинства жизни надо уметь отказываться от мелких удовольствий и немалых тоже… Уметь извиняться, признавать перед другими ошибку - лучше, чем врать.\\n\\nОбманывая, человек прежде всего обманывает самого себя, ибо он думает, что успешно соврал, а люди поняли и из деликатности промолчали.\\n\\nЖизнь - прежде всего творчество, но это не значит, что каждый человек, чтобы жить, должен родиться художником, балериной или ученым. Можно творить просто добрую атмосферу вокруг себя. Человек может принести с собой атмосферу подозрительности, какого-то тягостного молчания, а может внести сразу радость, свет. Вот это и есть творчество.'"
            ],
            "application/vnd.google.colaboratory.intrinsic+json": {
              "type": "string"
            }
          },
          "metadata": {},
          "execution_count": 9
        }
      ]
    },
    {
      "cell_type": "code",
      "source": [
        "tokens = word_tokenize(text)\n",
        "res = predictor.predict(tokens)"
      ],
      "metadata": {
        "colab": {
          "base_uri": "https://localhost:8080/"
        },
        "id": "3j-pm1yxcb9k",
        "outputId": "25787fd7-2841-468f-abfe-b0b7dac9b9bb"
      },
      "execution_count": 10,
      "outputs": [
        {
          "output_type": "stream",
          "name": "stdout",
          "text": [
            "1/1 [==============================] - 3s 3s/step\n"
          ]
        }
      ]
    },
    {
      "cell_type": "code",
      "source": [
        "res"
      ],
      "metadata": {
        "colab": {
          "base_uri": "https://localhost:8080/"
        },
        "id": "Gpm_2Psmd9Mw",
        "outputId": "ec44e4ff-5049-455a-fee0-6f58a98c783d"
      },
      "execution_count": 11,
      "outputs": [
        {
          "output_type": "execute_result",
          "data": {
            "text/plain": [
              "[<normal_form=когда; word=Когда; pos=CONJ; tag=_; score=0.9909>,\n",
              " <normal_form=человек; word=человек; pos=NOUN; tag=Case=Nom|Gender=Masc|Number=Sing; score=1.0000>,\n",
              " <normal_form=сознательно; word=сознательно; pos=ADV; tag=Degree=Pos; score=1.0000>,\n",
              " <normal_form=или; word=или; pos=CONJ; tag=_; score=1.0000>,\n",
              " <normal_form=интуитивно; word=интуитивно; pos=ADV; tag=Degree=Pos; score=0.9999>,\n",
              " <normal_form=выбирать; word=выбирает; pos=VERB; tag=Mood=Ind|Number=Sing|Person=3|Tense=Notpast|VerbForm=Fin|Voice=Act; score=1.0000>,\n",
              " <normal_form=себя; word=себе; pos=PRON; tag=Case=Dat; score=1.0000>,\n",
              " <normal_form=в; word=в; pos=ADP; tag=_; score=1.0000>,\n",
              " <normal_form=жизнь; word=жизни; pos=NOUN; tag=Case=Loc|Gender=Fem|Number=Sing; score=0.9989>,\n",
              " <normal_form=какой-то; word=какую-то; pos=DET; tag=Case=Acc|Gender=Fem|Number=Sing; score=1.0000>,\n",
              " <normal_form=цель; word=цель; pos=NOUN; tag=Case=Acc|Gender=Fem|Number=Sing; score=1.0000>,\n",
              " <normal_form=,; word=,; pos=PUNCT; tag=_; score=1.0000>,\n",
              " <normal_form=жизненный; word=жизненную; pos=ADJ; tag=Case=Acc|Degree=Pos|Gender=Fem|Number=Sing; score=1.0000>,\n",
              " <normal_form=задача; word=задачу; pos=NOUN; tag=Case=Acc|Gender=Fem|Number=Sing; score=1.0000>,\n",
              " <normal_form=,; word=,; pos=PUNCT; tag=_; score=1.0000>,\n",
              " <normal_form=он; word=он; pos=PRON; tag=Case=Nom|Gender=Masc|Number=Sing|Person=3; score=1.0000>,\n",
              " <normal_form=невольно; word=невольно; pos=ADV; tag=Degree=Pos; score=1.0000>,\n",
              " <normal_form=давать; word=дает; pos=VERB; tag=Mood=Ind|Number=Sing|Person=3|Tense=Notpast|VerbForm=Fin|Voice=Act; score=1.0000>,\n",
              " <normal_form=себя; word=себе; pos=PRON; tag=Case=Dat; score=1.0000>,\n",
              " <normal_form=оценка; word=оценку; pos=NOUN; tag=Case=Acc|Gender=Fem|Number=Sing; score=1.0000>,\n",
              " <normal_form=.; word=.; pos=PUNCT; tag=_; score=1.0000>,\n",
              " <normal_form=по; word=По; pos=ADP; tag=_; score=1.0000>,\n",
              " <normal_form=тот; word=тому; pos=PRON; tag=Case=Dat|Gender=Neut|Number=Sing; score=0.9996>,\n",
              " <normal_form=,; word=,; pos=PUNCT; tag=_; score=1.0000>,\n",
              " <normal_form=ради; word=ради; pos=ADP; tag=_; score=0.9999>,\n",
              " <normal_form=что; word=чего; pos=PRON; tag=Case=Gen|Gender=Neut|Number=Sing; score=0.9998>,\n",
              " <normal_form=человек; word=человек; pos=NOUN; tag=Case=Nom|Gender=Masc|Number=Sing; score=0.9973>,\n",
              " <normal_form=жить; word=живет; pos=VERB; tag=Mood=Ind|Number=Sing|Person=3|Tense=Notpast|VerbForm=Fin|Voice=Act; score=1.0000>,\n",
              " <normal_form=,; word=,; pos=PUNCT; tag=_; score=1.0000>,\n",
              " <normal_form=можно; word=можно; pos=ADJ; tag=Degree=Pos|Gender=Neut|Number=Sing|Variant=Short; score=1.0000>,\n",
              " <normal_form=судить; word=судить; pos=VERB; tag=VerbForm=Inf; score=1.0000>,\n",
              " <normal_form=и; word=и; pos=PART; tag=_; score=0.9854>,\n",
              " <normal_form=о; word=о; pos=ADP; tag=_; score=1.0000>,\n",
              " <normal_form=он; word=его; pos=DET; tag=_; score=1.0000>,\n",
              " <normal_form=самооценка; word=самооценке; pos=NOUN; tag=Case=Loc|Gender=Fem|Number=Sing; score=0.9995>,\n",
              " <normal_form=-; word=-; pos=PUNCT; tag=_; score=1.0000>,\n",
              " <normal_form=низкий; word=низкой; pos=ADJ; tag=Case=Loc|Degree=Pos|Gender=Fem|Number=Sing; score=0.9113>,\n",
              " <normal_form=или; word=или; pos=CONJ; tag=_; score=1.0000>,\n",
              " <normal_form=высокий; word=высокой; pos=ADJ; tag=Case=Loc|Degree=Pos|Gender=Fem|Number=Sing; score=0.9692>,\n",
              " <normal_form=.; word=.; pos=PUNCT; tag=_; score=1.0000>,\n",
              " <normal_form=если; word=Если; pos=CONJ; tag=_; score=1.0000>,\n",
              " <normal_form=человек; word=человек; pos=NOUN; tag=Case=Nom|Gender=Masc|Number=Sing; score=0.9999>,\n",
              " <normal_form=жить; word=живет; pos=VERB; tag=Mood=Ind|Number=Sing|Person=3|Tense=Notpast|VerbForm=Fin|Voice=Act; score=1.0000>,\n",
              " <normal_form=,; word=,; pos=PUNCT; tag=_; score=1.0000>,\n",
              " <normal_form=чтобы; word=чтобы; pos=CONJ; tag=_; score=1.0000>,\n",
              " <normal_form=приносить; word=приносить; pos=VERB; tag=VerbForm=Inf; score=1.0000>,\n",
              " <normal_form=человек; word=людям; pos=NOUN; tag=Case=Dat|Gender=Masc|Number=Plur; score=0.9994>,\n",
              " <normal_form=добро; word=добро; pos=NOUN; tag=Case=Acc|Gender=Neut|Number=Sing; score=0.9916>,\n",
              " <normal_form=,; word=,; pos=PUNCT; tag=_; score=1.0000>,\n",
              " <normal_form=облегчать; word=облегчать; pos=VERB; tag=VerbForm=Inf; score=1.0000>,\n",
              " <normal_form=он; word=их; pos=DET; tag=_; score=0.9267>,\n",
              " <normal_form=страдание; word=страдания; pos=NOUN; tag=Case=Acc|Gender=Neut|Number=Plur; score=0.9785>,\n",
              " <normal_form=,; word=,; pos=PUNCT; tag=_; score=1.0000>,\n",
              " <normal_form=давать; word=давать; pos=VERB; tag=VerbForm=Inf; score=1.0000>,\n",
              " <normal_form=человек; word=людям; pos=NOUN; tag=Case=Dat|Gender=Masc|Number=Plur; score=0.9993>,\n",
              " <normal_form=радость; word=радость; pos=NOUN; tag=Case=Acc|Gender=Fem|Number=Sing; score=0.9981>,\n",
              " <normal_form=,; word=,; pos=PUNCT; tag=_; score=1.0000>,\n",
              " <normal_form=то; word=то; pos=CONJ; tag=_; score=0.9981>,\n",
              " <normal_form=он; word=он; pos=PRON; tag=Case=Nom|Gender=Masc|Number=Sing|Person=3; score=1.0000>,\n",
              " <normal_form=оценивать; word=оценивает; pos=VERB; tag=Mood=Ind|Number=Sing|Person=3|Tense=Notpast|VerbForm=Fin|Voice=Act; score=1.0000>,\n",
              " <normal_form=себя; word=себя; pos=PRON; tag=Case=Acc; score=0.9999>,\n",
              " <normal_form=на; word=на; pos=ADP; tag=_; score=1.0000>,\n",
              " <normal_form=уровень; word=уровне; pos=NOUN; tag=Case=Loc|Gender=Masc|Number=Sing; score=0.9986>,\n",
              " <normal_form=этот; word=этой; pos=DET; tag=Case=Gen|Gender=Fem|Number=Sing; score=0.9999>,\n",
              " <normal_form=свой; word=своей; pos=DET; tag=Case=Gen|Gender=Fem|Number=Sing; score=0.9998>,\n",
              " <normal_form=человечность; word=человечности; pos=NOUN; tag=Case=Gen|Gender=Fem|Number=Sing; score=0.9990>,\n",
              " <normal_form=.; word=.; pos=PUNCT; tag=_; score=1.0000>,\n",
              " <normal_form=он; word=Он; pos=PRON; tag=Case=Nom|Gender=Masc|Number=Sing|Person=3; score=1.0000>,\n",
              " <normal_form=ставить; word=ставит; pos=VERB; tag=Mood=Ind|Number=Sing|Person=3|Tense=Notpast|VerbForm=Fin|Voice=Act; score=1.0000>,\n",
              " <normal_form=себя; word=себе; pos=PRON; tag=Case=Dat; score=1.0000>,\n",
              " <normal_form=цель; word=цель; pos=NOUN; tag=Case=Acc|Gender=Fem|Number=Sing; score=0.9999>,\n",
              " <normal_form=,; word=,; pos=PUNCT; tag=_; score=1.0000>,\n",
              " <normal_form=достойный; word=достойную; pos=ADJ; tag=Case=Acc|Degree=Pos|Gender=Fem|Number=Sing; score=0.9998>,\n",
              " <normal_form=человек; word=человека; pos=NOUN; tag=Case=Gen|Gender=Masc|Number=Sing; score=0.7733>,\n",
              " <normal_form=.; word=.; pos=PUNCT; tag=_; score=1.0000>,\n",
              " <normal_form=только; word=Только; pos=ADV; tag=Degree=Pos; score=0.9669>,\n",
              " <normal_form=такой; word=такая; pos=DET; tag=Case=Nom|Gender=Fem|Number=Sing; score=1.0000>,\n",
              " <normal_form=цель; word=цель; pos=NOUN; tag=Case=Nom|Gender=Fem|Number=Sing; score=0.9999>,\n",
              " <normal_form=позволять; word=позволяет; pos=VERB; tag=Mood=Ind|Number=Sing|Person=3|Tense=Notpast|VerbForm=Fin|Voice=Act; score=1.0000>,\n",
              " <normal_form=человек; word=человеку; pos=NOUN; tag=Case=Dat|Gender=Masc|Number=Sing; score=1.0000>,\n",
              " <normal_form=прожить; word=прожить; pos=VERB; tag=VerbForm=Inf; score=1.0000>,\n",
              " <normal_form=свой; word=свою; pos=DET; tag=Case=Acc|Gender=Fem|Number=Sing; score=1.0000>,\n",
              " <normal_form=жизнь; word=жизнь; pos=NOUN; tag=Case=Acc|Gender=Fem|Number=Sing; score=1.0000>,\n",
              " <normal_form=с; word=с; pos=ADP; tag=_; score=0.9999>,\n",
              " <normal_form=достоинство; word=достоинством; pos=NOUN; tag=Case=Ins|Gender=Neut|Number=Sing; score=1.0000>,\n",
              " <normal_form=и; word=и; pos=CONJ; tag=_; score=0.9995>,\n",
              " <normal_form=получить; word=получить; pos=VERB; tag=VerbForm=Inf; score=1.0000>,\n",
              " <normal_form=настоящий; word=настоящую; pos=ADJ; tag=Case=Acc|Degree=Pos|Gender=Fem|Number=Sing; score=1.0000>,\n",
              " <normal_form=радость; word=радость; pos=NOUN; tag=Case=Acc|Gender=Fem|Number=Sing; score=1.0000>,\n",
              " <normal_form=.; word=.; pos=PUNCT; tag=_; score=1.0000>,\n",
              " <normal_form=да; word=Да; pos=PART; tag=_; score=0.9986>,\n",
              " <normal_form=,; word=,; pos=PUNCT; tag=_; score=1.0000>,\n",
              " <normal_form=радость; word=радость; pos=NOUN; tag=Case=Acc|Gender=Fem|Number=Sing; score=0.6105>,\n",
              " <normal_form=!; word=!; pos=PUNCT; tag=_; score=1.0000>,\n",
              " <normal_form=подумать; word=Подумайте; pos=VERB; tag=Mood=Imp|Number=Plur|Person=2|VerbForm=Fin|Voice=Act; score=0.9881>,\n",
              " <normal_form=:; word=:; pos=PUNCT; tag=_; score=1.0000>,\n",
              " <normal_form=если; word=если; pos=CONJ; tag=_; score=1.0000>,\n",
              " <normal_form=человек; word=человек; pos=NOUN; tag=Case=Nom|Gender=Masc|Number=Sing; score=0.9998>,\n",
              " <normal_form=ставить; word=ставит; pos=VERB; tag=Mood=Ind|Number=Sing|Person=3|Tense=Notpast|VerbForm=Fin|Voice=Act; score=1.0000>,\n",
              " <normal_form=себя; word=себе; pos=PRON; tag=Case=Dat; score=1.0000>,\n",
              " <normal_form=задача; word=задачей; pos=NOUN; tag=Case=Ins|Gender=Fem|Number=Sing; score=0.9998>,\n",
              " <normal_form=увеличивать; word=увеличивать; pos=VERB; tag=VerbForm=Inf; score=1.0000>,\n",
              " <normal_form=в; word=в; pos=ADP; tag=_; score=1.0000>,\n",
              " <normal_form=жизнь; word=жизни; pos=NOUN; tag=Case=Loc|Gender=Fem|Number=Sing; score=0.9932>,\n",
              " <normal_form=добро; word=добро; pos=NOUN; tag=Case=Acc|Gender=Neut|Number=Sing; score=0.9984>,\n",
              " <normal_form=,; word=,; pos=PUNCT; tag=_; score=1.0000>,\n",
              " <normal_form=приносить; word=приносить; pos=VERB; tag=VerbForm=Inf; score=1.0000>,\n",
              " <normal_form=человек; word=людям; pos=NOUN; tag=Case=Dat|Gender=Masc|Number=Plur; score=0.9990>,\n",
              " <normal_form=счастие; word=счастье; pos=NOUN; tag=Case=Acc|Gender=Neut|Number=Sing; score=0.9961>,\n",
              " <normal_form=,; word=,; pos=PUNCT; tag=_; score=1.0000>,\n",
              " <normal_form=какой; word=какие; pos=DET; tag=Case=Nom|Number=Plur; score=0.9931>,\n",
              " <normal_form=неудача; word=неудачи; pos=NOUN; tag=Case=Nom|Gender=Fem|Number=Plur; score=0.9952>,\n",
              " <normal_form=мочь; word=могут; pos=VERB; tag=Mood=Ind|Number=Plur|Person=3|Tense=Notpast|VerbForm=Fin|Voice=Act; score=1.0000>,\n",
              " <normal_form=он; word=его; pos=PRON; tag=Case=Acc|Gender=Masc|Number=Sing|Person=3; score=0.9521>,\n",
              " <normal_form=постичь; word=постигнуть; pos=VERB; tag=VerbForm=Inf; score=1.0000>,\n",
              " <normal_form=?; word=?; pos=PUNCT; tag=_; score=1.0000>,\n",
              " <normal_form=не; word=Не; pos=PART; tag=_; score=0.9999>,\n",
              " <normal_form=тот; word=тому; pos=DET; tag=Case=Dat|Gender=Masc|Number=Sing; score=0.5107>,\n",
              " <normal_form=помочь; word=помочь; pos=VERB; tag=VerbForm=Inf; score=0.9999>,\n",
              " <normal_form=?; word=?; pos=PUNCT; tag=_; score=1.0000>,\n",
              " <normal_form=но; word=Но; pos=CONJ; tag=_; score=0.9993>,\n",
              " <normal_form=много; word=много; pos=ADV; tag=Degree=Pos; score=0.9998>,\n",
              " <normal_form=ли; word=ли; pos=PART; tag=_; score=1.0000>,\n",
              " <normal_form=человек; word=людей; pos=NOUN; tag=Case=Gen|Gender=Masc|Number=Plur; score=0.9972>,\n",
              " <normal_form=не; word=не; pos=PART; tag=_; score=1.0000>,\n",
              " <normal_form=нуждаться; word=нуждаются; pos=VERB; tag=Mood=Ind|Number=Plur|Person=3|Tense=Notpast|VerbForm=Fin|Voice=Mid; score=1.0000>,\n",
              " <normal_form=в; word=в; pos=ADP; tag=_; score=1.0000>,\n",
              " <normal_form=помощь; word=помощи; pos=NOUN; tag=Case=Loc|Gender=Fem|Number=Sing; score=0.9862>,\n",
              " <normal_form=?; word=?; pos=PUNCT; tag=_; score=1.0000>,\n",
              " <normal_form=если; word=Если; pos=CONJ; tag=_; score=1.0000>,\n",
              " <normal_form=жить; word=жить; pos=VERB; tag=VerbForm=Inf; score=1.0000>,\n",
              " <normal_form=только; word=только; pos=ADV; tag=Degree=Pos; score=0.9899>,\n",
              " <normal_form=для; word=для; pos=ADP; tag=_; score=1.0000>,\n",
              " <normal_form=себя; word=себя; pos=PRON; tag=Case=Gen; score=1.0000>,\n",
              " <normal_form=,; word=,; pos=PUNCT; tag=_; score=1.0000>,\n",
              " <normal_form=свой; word=своими; pos=DET; tag=Case=Ins|Number=Plur; score=1.0000>,\n",
              " <normal_form=мелкий; word=мелкими; pos=ADJ; tag=Case=Ins|Degree=Pos|Number=Plur; score=0.9998>,\n",
              " <normal_form=забота; word=заботами; pos=NOUN; tag=Case=Ins|Gender=Fem|Number=Plur; score=0.9981>,\n",
              " <normal_form=о; word=о; pos=ADP; tag=_; score=1.0000>,\n",
              " <normal_form=собственный; word=собственном; pos=ADJ; tag=Case=Loc|Degree=Pos|Gender=Neut|Number=Sing; score=0.9997>,\n",
              " <normal_form=благополучие; word=благополучии; pos=NOUN; tag=Case=Loc|Gender=Neut|Number=Sing; score=1.0000>,\n",
              " <normal_form=,; word=,; pos=PUNCT; tag=_; score=1.0000>,\n",
              " <normal_form=то; word=то; pos=CONJ; tag=_; score=0.9895>,\n",
              " <normal_form=от; word=от; pos=ADP; tag=_; score=1.0000>,\n",
              " <normal_form=прожитый; word=прожитого; pos=ADJ; tag=Case=Gen|Degree=Pos|Gender=Neut|Number=Sing; score=0.7213>,\n",
              " <normal_form=не; word=не; pos=PART; tag=_; score=1.0000>,\n",
              " <normal_form=остаться; word=останется; pos=VERB; tag=Mood=Ind|Number=Sing|Person=3|Tense=Notpast|VerbForm=Fin|Voice=Mid; score=0.9997>,\n",
              " <normal_form=и; word=и; pos=PART; tag=_; score=0.9990>,\n",
              " <normal_form=след; word=следа; pos=NOUN; tag=Case=Gen|Gender=Masc|Number=Sing; score=0.9996>,\n",
              " <normal_form=.; word=.; pos=PUNCT; tag=_; score=1.0000>,\n",
              " <normal_form=если; word=Если; pos=CONJ; tag=_; score=1.0000>,\n",
              " <normal_form=же; word=же; pos=PART; tag=_; score=1.0000>,\n",
              " <normal_form=жить; word=жить; pos=VERB; tag=VerbForm=Inf; score=1.0000>,\n",
              " <normal_form=для; word=для; pos=ADP; tag=_; score=1.0000>,\n",
              " <normal_form=другой; word=других; pos=DET; tag=Case=Gen|Number=Plur; score=0.9997>,\n",
              " <normal_form=,; word=,; pos=PUNCT; tag=_; score=1.0000>,\n",
              " <normal_form=то; word=то; pos=CONJ; tag=_; score=0.9990>,\n",
              " <normal_form=другой; word=другие; pos=DET; tag=Case=Nom|Number=Plur; score=0.9991>,\n",
              " <normal_form=сберечь; word=сберегут; pos=VERB; tag=Mood=Ind|Number=Plur|Person=3|Tense=Notpast|VerbForm=Fin|Voice=Act; score=1.0000>,\n",
              " <normal_form=то; word=то; pos=PRON; tag=Case=Acc|Gender=Neut|Number=Sing; score=0.9725>,\n",
              " <normal_form=,; word=,; pos=PUNCT; tag=_; score=1.0000>,\n",
              " <normal_form=что; word=чему; pos=PRON; tag=Case=Dat|Gender=Neut|Number=Sing; score=0.9997>,\n",
              " <normal_form=служить; word=служил; pos=VERB; tag=Gender=Masc|Mood=Ind|Number=Sing|Tense=Past|VerbForm=Fin|Voice=Act; score=1.0000>,\n",
              " <normal_form=,; word=,; pos=PUNCT; tag=_; score=1.0000>,\n",
              " <normal_form=что; word=чему; pos=PRON; tag=Case=Dat|Gender=Neut|Number=Sing; score=0.9998>,\n",
              " <normal_form=отдавать; word=отдавал; pos=VERB; tag=Gender=Masc|Mood=Ind|Number=Sing|Tense=Past|VerbForm=Fin|Voice=Act; score=1.0000>,\n",
              " <normal_form=сила; word=силы; pos=NOUN; tag=Case=Acc|Gender=Fem|Number=Plur; score=0.9550>,\n",
              " <normal_form=.; word=.; pos=PUNCT; tag=_; score=1.0000>,\n",
              " <normal_form=можно; word=Можно; pos=ADJ; tag=Degree=Pos|Gender=Neut|Number=Sing|Variant=Short; score=1.0000>,\n",
              " <normal_form=по-разному; word=по-разному; pos=ADV; tag=Degree=Pos; score=1.0000>,\n",
              " <normal_form=определять; word=определять; pos=VERB; tag=VerbForm=Inf; score=1.0000>,\n",
              " <normal_form=цель; word=цель; pos=NOUN; tag=Case=Acc|Gender=Fem|Number=Sing; score=0.9998>,\n",
              " <normal_form=свой; word=своего; pos=DET; tag=Case=Gen|Gender=Neut|Number=Sing; score=0.9996>,\n",
              " <normal_form=существование; word=существования; pos=NOUN; tag=Case=Gen|Gender=Neut|Number=Sing; score=1.0000>,\n",
              " <normal_form=,; word=,; pos=PUNCT; tag=_; score=1.0000>,\n",
              " <normal_form=но; word=но; pos=CONJ; tag=_; score=1.0000>,\n",
              " <normal_form=цель; word=цель; pos=NOUN; tag=Case=Nom|Gender=Fem|Number=Sing; score=0.9744>,\n",
              " <normal_form=должный; word=должна; pos=ADJ; tag=Degree=Pos|Gender=Fem|Number=Sing|Variant=Short; score=1.0000>,\n",
              " <normal_form=быть; word=быть; pos=VERB; tag=VerbForm=Inf; score=1.0000>,\n",
              " <normal_form=.; word=.; pos=PUNCT; tag=_; score=1.0000>,\n",
              " <normal_form=надо; word=Надо; pos=ADJ; tag=Degree=Pos|Gender=Neut|Number=Sing|Variant=Short; score=1.0000>,\n",
              " <normal_form=иметь; word=иметь; pos=VERB; tag=VerbForm=Inf; score=1.0000>,\n",
              " <normal_form=и; word=и; pos=PART; tag=_; score=0.9952>,\n",
              " <normal_form=принцип; word=принципы; pos=NOUN; tag=Case=Acc|Gender=Masc|Number=Plur; score=0.9996>,\n",
              " <normal_form=в; word=в; pos=ADP; tag=_; score=1.0000>,\n",
              " <normal_form=жизнь; word=жизни; pos=NOUN; tag=Case=Loc|Gender=Fem|Number=Sing; score=0.9981>,\n",
              " <normal_form=.; word=.; pos=PUNCT; tag=_; score=1.0000>,\n",
              " <normal_form=один; word=Одно; pos=NUM; tag=Case=Nom|Gender=Neut; score=0.9968>,\n",
              " <normal_form=правило; word=правило; pos=NOUN; tag=Case=Nom|Gender=Neut|Number=Sing; score=0.9932>,\n",
              " <normal_form=в; word=в; pos=ADP; tag=_; score=1.0000>,\n",
              " <normal_form=жизнь; word=жизни; pos=NOUN; tag=Case=Loc|Gender=Fem|Number=Sing; score=0.9987>,\n",
              " <normal_form=должный; word=должно; pos=ADJ; tag=Degree=Pos|Gender=Neut|Number=Sing|Variant=Short; score=1.0000>,\n",
              " <normal_form=быть; word=быть; pos=VERB; tag=VerbForm=Inf; score=1.0000>,\n",
              " <normal_form=у; word=у; pos=ADP; tag=_; score=1.0000>,\n",
              " <normal_form=каждый; word=каждого; pos=DET; tag=Case=Gen|Gender=Masc|Number=Sing; score=1.0000>,\n",
              " <normal_form=человек; word=человека; pos=NOUN; tag=Case=Gen|Gender=Masc|Number=Sing; score=0.9998>,\n",
              " <normal_form=,; word=,; pos=PUNCT; tag=_; score=1.0000>,\n",
              " <normal_form=в; word=в; pos=ADP; tag=_; score=1.0000>,\n",
              " <normal_form=он; word=его; pos=DET; tag=_; score=1.0000>,\n",
              " <normal_form=цель; word=цели; pos=NOUN; tag=Case=Loc|Gender=Fem|Number=Sing; score=0.9989>,\n",
              " <normal_form=жизнь; word=жизни; pos=NOUN; tag=Case=Gen|Gender=Fem|Number=Sing; score=0.9616>,\n",
              " <normal_form=,; word=,; pos=PUNCT; tag=_; score=1.0000>,\n",
              " <normal_form=в; word=в; pos=ADP; tag=_; score=1.0000>,\n",
              " <normal_form=он; word=его; pos=DET; tag=_; score=1.0000>,\n",
              " <normal_form=принцип; word=принципах; pos=NOUN; tag=Case=Loc|Gender=Masc|Number=Plur; score=0.9924>,\n",
              " <normal_form=жизнь; word=жизни; pos=NOUN; tag=Case=Gen|Gender=Fem|Number=Sing; score=0.9886>,\n",
              " <normal_form=,; word=,; pos=PUNCT; tag=_; score=1.0000>,\n",
              " <normal_form=в; word=в; pos=ADP; tag=_; score=1.0000>,\n",
              " <normal_form=он; word=его; pos=DET; tag=_; score=1.0000>,\n",
              " <normal_form=поведение; word=поведении; pos=NOUN; tag=Case=Loc|Gender=Neut|Number=Sing; score=1.0000>,\n",
              " <normal_form=:; word=:; pos=PUNCT; tag=_; score=1.0000>,\n",
              " <normal_form=надо; word=надо; pos=ADJ; tag=Degree=Pos|Gender=Neut|Number=Sing|Variant=Short; score=1.0000>,\n",
              " <normal_form=прожить; word=прожить; pos=VERB; tag=VerbForm=Inf; score=1.0000>,\n",
              " <normal_form=жизнь; word=жизнь; pos=NOUN; tag=Case=Acc|Gender=Fem|Number=Sing; score=0.9998>,\n",
              " <normal_form=с; word=с; pos=ADP; tag=_; score=0.9999>,\n",
              " <normal_form=достоинство; word=достоинством; pos=NOUN; tag=Case=Ins|Gender=Neut|Number=Sing; score=1.0000>,\n",
              " <normal_form=,; word=,; pos=PUNCT; tag=_; score=1.0000>,\n",
              " <normal_form=чтобы; word=чтобы; pos=CONJ; tag=_; score=1.0000>,\n",
              " <normal_form=не; word=не; pos=PART; tag=_; score=1.0000>,\n",
              " <normal_form=стыдно; word=стыдно; pos=ADV; tag=Degree=Pos; score=0.9688>,\n",
              " <normal_form=быть; word=было; pos=VERB; tag=Gender=Neut|Mood=Ind|Number=Sing|Tense=Past|VerbForm=Fin|Voice=Act; score=0.9998>,\n",
              " <normal_form=вспоминать; word=вспоминать; pos=VERB; tag=VerbForm=Inf; score=1.0000>,\n",
              " <normal_form=.; word=.; pos=PUNCT; tag=_; score=1.0000>,\n",
              " <normal_form=достоинство; word=Достоинство; pos=NOUN; tag=Case=Nom|Gender=Neut|Number=Sing; score=0.9108>,\n",
              " <normal_form=требовать; word=требует; pos=VERB; tag=Mood=Ind|Number=Sing|Person=3|Tense=Notpast|VerbForm=Fin|Voice=Act; score=1.0000>,\n",
              " <normal_form=доброта; word=доброты; pos=NOUN; tag=Case=Gen|Gender=Fem|Number=Sing; score=0.9994>,\n",
              " <normal_form=,; word=,; pos=PUNCT; tag=_; score=1.0000>,\n",
              " <normal_form=великодушие; word=великодушия; pos=NOUN; tag=Case=Gen|Gender=Neut|Number=Sing; score=0.9984>,\n",
              " <normal_form=,; word=,; pos=PUNCT; tag=_; score=1.0000>,\n",
              " <normal_form=умение; word=умения; pos=NOUN; tag=Case=Gen|Gender=Neut|Number=Sing; score=0.9968>,\n",
              " <normal_form=не; word=не; pos=PART; tag=_; score=0.9998>,\n",
              " <normal_form=быть; word=быть; pos=VERB; tag=VerbForm=Inf; score=1.0000>,\n",
              " <normal_form=эгоист; word=эгоистом; pos=NOUN; tag=Case=Ins|Gender=Masc|Number=Sing; score=0.9996>,\n",
              " <normal_form=,; word=,; pos=PUNCT; tag=_; score=1.0000>,\n",
              " <normal_form=быть; word=быть; pos=VERB; tag=VerbForm=Inf; score=1.0000>,\n",
              " <normal_form=правдивый; word=правдивым; pos=ADJ; tag=Case=Ins|Degree=Pos|Gender=Masc|Number=Sing; score=0.9756>,\n",
              " <normal_form=,; word=,; pos=PUNCT; tag=_; score=1.0000>,\n",
              " <normal_form=хороший; word=хорошим; pos=ADJ; tag=Case=Ins|Degree=Pos|Gender=Masc|Number=Sing; score=0.9857>,\n",
              " <normal_form=друг; word=другом; pos=NOUN; tag=Case=Ins|Gender=Masc|Number=Sing; score=0.9845>,\n",
              " <normal_form=,; word=,; pos=PUNCT; tag=_; score=1.0000>,\n",
              " <normal_form=находить; word=находить; pos=VERB; tag=VerbForm=Inf; score=1.0000>,\n",
              " <normal_form=радость; word=радость; pos=NOUN; tag=Case=Acc|Gender=Fem|Number=Sing; score=0.9995>,\n",
              " <normal_form=в; word=в; pos=ADP; tag=_; score=1.0000>,\n",
              " <normal_form=помощь; word=помощи; pos=NOUN; tag=Case=Loc|Gender=Fem|Number=Sing; score=0.9910>,\n",
              " <normal_form=другой; word=другим; pos=DET; tag=Case=Dat|Number=Plur; score=0.9771>,\n",
              " <normal_form=.; word=.; pos=PUNCT; tag=_; score=1.0000>,\n",
              " <normal_form=ради; word=Ради; pos=ADP; tag=_; score=1.0000>,\n",
              " <normal_form=достоинство; word=достоинства; pos=NOUN; tag=Case=Gen|Gender=Neut|Number=Sing; score=1.0000>,\n",
              " <normal_form=жизнь; word=жизни; pos=NOUN; tag=Case=Gen|Gender=Fem|Number=Sing; score=0.9645>,\n",
              " <normal_form=надо; word=надо; pos=ADJ; tag=Degree=Pos|Gender=Neut|Number=Sing|Variant=Short; score=1.0000>,\n",
              " <normal_form=уметь; word=уметь; pos=VERB; tag=VerbForm=Inf; score=1.0000>,\n",
              " <normal_form=отказываться; word=отказываться; pos=VERB; tag=VerbForm=Inf; score=1.0000>,\n",
              " <normal_form=от; word=от; pos=ADP; tag=_; score=1.0000>,\n",
              " <normal_form=мелкий; word=мелких; pos=ADJ; tag=Case=Gen|Degree=Pos|Number=Plur; score=1.0000>,\n",
              " <normal_form=удовольствие; word=удовольствий; pos=NOUN; tag=Case=Gen|Gender=Neut|Number=Plur; score=1.0000>,\n",
              " <normal_form=и; word=и; pos=CONJ; tag=_; score=0.9998>,\n",
              " <normal_form=немалый; word=немалых; pos=ADJ; tag=Case=Gen|Degree=Pos|Number=Plur; score=0.9069>,\n",
              " <normal_form=тоже…; word=тоже…; pos=ADV; tag=Degree=Pos; score=0.3863>,\n",
              " <normal_form=уметь; word=Уметь; pos=VERB; tag=VerbForm=Inf; score=1.0000>,\n",
              " <normal_form=извиняться; word=извиняться; pos=VERB; tag=VerbForm=Inf; score=1.0000>,\n",
              " <normal_form=,; word=,; pos=PUNCT; tag=_; score=1.0000>,\n",
              " <normal_form=признавать; word=признавать; pos=VERB; tag=VerbForm=Inf; score=1.0000>,\n",
              " <normal_form=перед; word=перед; pos=ADP; tag=_; score=1.0000>,\n",
              " <normal_form=другой; word=другими; pos=DET; tag=Case=Ins|Number=Plur; score=0.9996>,\n",
              " <normal_form=ошибка; word=ошибку; pos=NOUN; tag=Case=Acc|Gender=Fem|Number=Sing; score=0.9998>,\n",
              " <normal_form=-; word=-; pos=PUNCT; tag=_; score=1.0000>,\n",
              " <normal_form=хороший; word=лучше; pos=ADV; tag=Degree=Cmp; score=0.9544>,\n",
              " <normal_form=,; word=,; pos=PUNCT; tag=_; score=1.0000>,\n",
              " <normal_form=чем; word=чем; pos=CONJ; tag=_; score=0.9630>,\n",
              " <normal_form=врать; word=врать; pos=VERB; tag=VerbForm=Inf; score=1.0000>,\n",
              " <normal_form=.; word=.; pos=PUNCT; tag=_; score=1.0000>,\n",
              " <normal_form=обманывать; word=Обманывая; pos=VERB; tag=Tense=Notpast|VerbForm=Conv|Voice=Act; score=0.9999>,\n",
              " <normal_form=,; word=,; pos=PUNCT; tag=_; score=1.0000>,\n",
              " <normal_form=человек; word=человек; pos=NOUN; tag=Case=Nom|Gender=Masc|Number=Sing; score=0.9998>,\n",
              " <normal_form=прежде; word=прежде; pos=ADV; tag=Degree=Pos; score=0.8837>,\n",
              " <normal_form=весь; word=всего; pos=PRON; tag=Case=Gen|Gender=Neut|Number=Sing; score=0.9989>,\n",
              " <normal_form=обманывать; word=обманывает; pos=VERB; tag=Mood=Ind|Number=Sing|Person=3|Tense=Notpast|VerbForm=Fin|Voice=Act; score=1.0000>,\n",
              " <normal_form=сам; word=самого; pos=ADJ; tag=Case=Acc|Degree=Pos|Gender=Masc|Number=Sing; score=0.9990>,\n",
              " <normal_form=себя; word=себя; pos=PRON; tag=Case=Acc; score=0.9997>,\n",
              " <normal_form=,; word=,; pos=PUNCT; tag=_; score=1.0000>,\n",
              " <normal_form=ибо; word=ибо; pos=CONJ; tag=_; score=1.0000>,\n",
              " <normal_form=он; word=он; pos=PRON; tag=Case=Nom|Gender=Masc|Number=Sing|Person=3; score=1.0000>,\n",
              " <normal_form=думать; word=думает; pos=VERB; tag=Mood=Ind|Number=Sing|Person=3|Tense=Notpast|VerbForm=Fin|Voice=Act; score=0.9999>,\n",
              " <normal_form=,; word=,; pos=PUNCT; tag=_; score=1.0000>,\n",
              " <normal_form=что; word=что; pos=PRON; tag=Case=Acc|Gender=Neut|Number=Sing; score=0.8470>,\n",
              " <normal_form=успешно; word=успешно; pos=ADV; tag=Degree=Pos; score=1.0000>,\n",
              " <normal_form=соврать; word=соврал; pos=VERB; tag=Gender=Masc|Mood=Ind|Number=Sing|Tense=Past|VerbForm=Fin|Voice=Act; score=1.0000>,\n",
              " <normal_form=,; word=,; pos=PUNCT; tag=_; score=1.0000>,\n",
              " <normal_form=а; word=а; pos=CONJ; tag=_; score=1.0000>,\n",
              " <normal_form=человек; word=люди; pos=NOUN; tag=Case=Nom|Gender=Masc|Number=Plur; score=0.9996>,\n",
              " <normal_form=понять; word=поняли; pos=VERB; tag=Mood=Ind|Number=Plur|Tense=Past|VerbForm=Fin|Voice=Act; score=1.0000>,\n",
              " <normal_form=и; word=и; pos=CONJ; tag=_; score=0.9981>,\n",
              " <normal_form=из; word=из; pos=ADP; tag=_; score=1.0000>,\n",
              " <normal_form=деликатность; word=деликатности; pos=NOUN; tag=Case=Gen|Gender=Fem|Number=Sing; score=0.9995>,\n",
              " <normal_form=промолчать; word=промолчали; pos=VERB; tag=Mood=Ind|Number=Plur|Tense=Past|VerbForm=Fin|Voice=Act; score=1.0000>,\n",
              " <normal_form=.; word=.; pos=PUNCT; tag=_; score=1.0000>,\n",
              " <normal_form=жизнь; word=Жизнь; pos=NOUN; tag=Case=Nom|Gender=Fem|Number=Sing; score=0.9050>,\n",
              " <normal_form=-; word=-; pos=PUNCT; tag=_; score=1.0000>,\n",
              " <normal_form=прежде; word=прежде; pos=ADV; tag=Degree=Pos; score=0.6790>,\n",
              " <normal_form=весь; word=всего; pos=DET; tag=Case=Gen|Gender=Neut|Number=Sing; score=0.6427>,\n",
              " <normal_form=творчество; word=творчество; pos=NOUN; tag=Case=Nom|Gender=Neut|Number=Sing; score=0.9849>,\n",
              " <normal_form=,; word=,; pos=PUNCT; tag=_; score=1.0000>,\n",
              " <normal_form=но; word=но; pos=CONJ; tag=_; score=1.0000>,\n",
              " <normal_form=это; word=это; pos=PRON; tag=Case=Nom|Gender=Neut|Number=Sing; score=0.9957>,\n",
              " <normal_form=не; word=не; pos=PART; tag=_; score=1.0000>,\n",
              " <normal_form=значить; word=значит; pos=VERB; tag=Mood=Ind|Number=Sing|Person=3|Tense=Notpast|VerbForm=Fin|Voice=Act; score=1.0000>,\n",
              " <normal_form=,; word=,; pos=PUNCT; tag=_; score=1.0000>,\n",
              " <normal_form=что; word=что; pos=CONJ; tag=_; score=0.9856>,\n",
              " <normal_form=каждый; word=каждый; pos=DET; tag=Case=Nom|Gender=Masc|Number=Sing; score=0.9983>,\n",
              " <normal_form=человек; word=человек; pos=NOUN; tag=Case=Nom|Gender=Masc|Number=Sing; score=0.9997>,\n",
              " <normal_form=,; word=,; pos=PUNCT; tag=_; score=1.0000>,\n",
              " <normal_form=чтобы; word=чтобы; pos=CONJ; tag=_; score=1.0000>,\n",
              " <normal_form=жить; word=жить; pos=VERB; tag=VerbForm=Inf; score=1.0000>,\n",
              " <normal_form=,; word=,; pos=PUNCT; tag=_; score=1.0000>,\n",
              " <normal_form=должный; word=должен; pos=ADJ; tag=Degree=Pos|Gender=Masc|Number=Sing|Variant=Short; score=0.9999>,\n",
              " <normal_form=родиться; word=родиться; pos=VERB; tag=VerbForm=Inf; score=1.0000>,\n",
              " <normal_form=художник; word=художником; pos=NOUN; tag=Case=Ins|Gender=Masc|Number=Sing; score=0.9997>,\n",
              " <normal_form=,; word=,; pos=PUNCT; tag=_; score=1.0000>,\n",
              " <normal_form=балерина; word=балериной; pos=NOUN; tag=Case=Ins|Gender=Fem|Number=Sing; score=0.9852>,\n",
              " <normal_form=или; word=или; pos=CONJ; tag=_; score=1.0000>,\n",
              " <normal_form=учёный; word=ученым; pos=NOUN; tag=Case=Ins|Gender=Masc|Number=Sing; score=0.9694>,\n",
              " <normal_form=.; word=.; pos=PUNCT; tag=_; score=1.0000>,\n",
              " <normal_form=можно; word=Можно; pos=ADJ; tag=Degree=Pos|Gender=Neut|Number=Sing|Variant=Short; score=1.0000>,\n",
              " <normal_form=творить; word=творить; pos=VERB; tag=VerbForm=Inf; score=1.0000>,\n",
              " <normal_form=просто; word=просто; pos=ADV; tag=Degree=Pos; score=1.0000>,\n",
              " <normal_form=добрый; word=добрую; pos=ADJ; tag=Case=Acc|Degree=Pos|Gender=Fem|Number=Sing; score=1.0000>,\n",
              " <normal_form=атмосфера; word=атмосферу; pos=NOUN; tag=Case=Acc|Gender=Fem|Number=Sing; score=1.0000>,\n",
              " <normal_form=вокруг; word=вокруг; pos=ADP; tag=_; score=0.9999>,\n",
              " <normal_form=себя; word=себя; pos=PRON; tag=Case=Gen; score=0.9999>,\n",
              " <normal_form=.; word=.; pos=PUNCT; tag=_; score=1.0000>,\n",
              " <normal_form=человек; word=Человек; pos=NOUN; tag=Case=Nom|Gender=Masc|Number=Sing; score=0.9989>,\n",
              " <normal_form=мочь; word=может; pos=VERB; tag=Mood=Ind|Number=Sing|Person=3|Tense=Notpast|VerbForm=Fin|Voice=Act; score=1.0000>,\n",
              " <normal_form=принести; word=принести; pos=VERB; tag=VerbForm=Inf; score=1.0000>,\n",
              " <normal_form=с; word=с; pos=ADP; tag=_; score=1.0000>,\n",
              " <normal_form=себя; word=собой; pos=PRON; tag=Case=Ins; score=1.0000>,\n",
              " <normal_form=атмосфера; word=атмосферу; pos=NOUN; tag=Case=Acc|Gender=Fem|Number=Sing; score=0.9999>,\n",
              " <normal_form=подозрительность; word=подозрительности; pos=NOUN; tag=Case=Gen|Gender=Fem|Number=Sing; score=0.9996>,\n",
              " <normal_form=,; word=,; pos=PUNCT; tag=_; score=1.0000>,\n",
              " <normal_form=какой-то; word=какого-то; pos=DET; tag=Case=Gen|Gender=Neut|Number=Sing; score=0.9997>,\n",
              " <normal_form=тягостный; word=тягостного; pos=ADJ; tag=Case=Gen|Degree=Pos|Gender=Neut|Number=Sing; score=0.9993>,\n",
              " <normal_form=молчание; word=молчания; pos=NOUN; tag=Case=Gen|Gender=Neut|Number=Sing; score=0.9999>,\n",
              " <normal_form=,; word=,; pos=PUNCT; tag=_; score=1.0000>,\n",
              " <normal_form=а; word=а; pos=CONJ; tag=_; score=1.0000>,\n",
              " <normal_form=мочь; word=может; pos=VERB; tag=Mood=Ind|Number=Sing|Person=3|Tense=Notpast|VerbForm=Fin|Voice=Act; score=0.9968>,\n",
              " <normal_form=внести; word=внести; pos=VERB; tag=VerbForm=Inf; score=1.0000>,\n",
              " <normal_form=сразу; word=сразу; pos=ADV; tag=Degree=Pos; score=0.9999>,\n",
              " <normal_form=радость; word=радость; pos=NOUN; tag=Case=Acc|Gender=Fem|Number=Sing; score=0.7249>,\n",
              " <normal_form=,; word=,; pos=PUNCT; tag=_; score=1.0000>,\n",
              " <normal_form=свет; word=свет; pos=NOUN; tag=Case=Acc|Gender=Masc|Number=Sing; score=0.6314>,\n",
              " <normal_form=.; word=.; pos=PUNCT; tag=_; score=1.0000>,\n",
              " <normal_form=вот; word=Вот; pos=PART; tag=_; score=1.0000>,\n",
              " <normal_form=это; word=это; pos=PRON; tag=Case=Nom|Gender=Neut|Number=Sing; score=0.8774>,\n",
              " <normal_form=и; word=и; pos=PART; tag=_; score=0.9907>,\n",
              " <normal_form=быть; word=есть; pos=VERB; tag=Mood=Ind|Number=Sing|Person=3|Tense=Notpast|VerbForm=Fin|Voice=Act; score=0.9720>,\n",
              " <normal_form=творчество; word=творчество; pos=NOUN; tag=Case=Nom|Gender=Neut|Number=Sing; score=0.9937>,\n",
              " <normal_form=.; word=.; pos=PUNCT; tag=_; score=1.0000>]"
            ]
          },
          "metadata": {},
          "execution_count": 11
        }
      ]
    },
    {
      "cell_type": "code",
      "source": [
        "lemmas = []\n",
        "pos = ['NOUN', 'AJD']\n",
        "for token in res:\n",
        "  nform = token.normal_form\n",
        "  if token.pos in pos:\n",
        "    lemmas.append((nform, token.tag))\n",
        "\n",
        "lemmas"
      ],
      "metadata": {
        "colab": {
          "base_uri": "https://localhost:8080/"
        },
        "id": "gY5H2jSjeKQ4",
        "outputId": "83557d4b-70ca-48b9-81c1-0d048e896fe2"
      },
      "execution_count": 13,
      "outputs": [
        {
          "output_type": "execute_result",
          "data": {
            "text/plain": [
              "[('человек', 'Case=Nom|Gender=Masc|Number=Sing'),\n",
              " ('жизнь', 'Case=Loc|Gender=Fem|Number=Sing'),\n",
              " ('цель', 'Case=Acc|Gender=Fem|Number=Sing'),\n",
              " ('задача', 'Case=Acc|Gender=Fem|Number=Sing'),\n",
              " ('оценка', 'Case=Acc|Gender=Fem|Number=Sing'),\n",
              " ('человек', 'Case=Nom|Gender=Masc|Number=Sing'),\n",
              " ('самооценка', 'Case=Loc|Gender=Fem|Number=Sing'),\n",
              " ('человек', 'Case=Nom|Gender=Masc|Number=Sing'),\n",
              " ('человек', 'Case=Dat|Gender=Masc|Number=Plur'),\n",
              " ('добро', 'Case=Acc|Gender=Neut|Number=Sing'),\n",
              " ('страдание', 'Case=Acc|Gender=Neut|Number=Plur'),\n",
              " ('человек', 'Case=Dat|Gender=Masc|Number=Plur'),\n",
              " ('радость', 'Case=Acc|Gender=Fem|Number=Sing'),\n",
              " ('уровень', 'Case=Loc|Gender=Masc|Number=Sing'),\n",
              " ('человечность', 'Case=Gen|Gender=Fem|Number=Sing'),\n",
              " ('цель', 'Case=Acc|Gender=Fem|Number=Sing'),\n",
              " ('человек', 'Case=Gen|Gender=Masc|Number=Sing'),\n",
              " ('цель', 'Case=Nom|Gender=Fem|Number=Sing'),\n",
              " ('человек', 'Case=Dat|Gender=Masc|Number=Sing'),\n",
              " ('жизнь', 'Case=Acc|Gender=Fem|Number=Sing'),\n",
              " ('достоинство', 'Case=Ins|Gender=Neut|Number=Sing'),\n",
              " ('радость', 'Case=Acc|Gender=Fem|Number=Sing'),\n",
              " ('радость', 'Case=Acc|Gender=Fem|Number=Sing'),\n",
              " ('человек', 'Case=Nom|Gender=Masc|Number=Sing'),\n",
              " ('задача', 'Case=Ins|Gender=Fem|Number=Sing'),\n",
              " ('жизнь', 'Case=Loc|Gender=Fem|Number=Sing'),\n",
              " ('добро', 'Case=Acc|Gender=Neut|Number=Sing'),\n",
              " ('человек', 'Case=Dat|Gender=Masc|Number=Plur'),\n",
              " ('счастие', 'Case=Acc|Gender=Neut|Number=Sing'),\n",
              " ('неудача', 'Case=Nom|Gender=Fem|Number=Plur'),\n",
              " ('человек', 'Case=Gen|Gender=Masc|Number=Plur'),\n",
              " ('помощь', 'Case=Loc|Gender=Fem|Number=Sing'),\n",
              " ('забота', 'Case=Ins|Gender=Fem|Number=Plur'),\n",
              " ('благополучие', 'Case=Loc|Gender=Neut|Number=Sing'),\n",
              " ('след', 'Case=Gen|Gender=Masc|Number=Sing'),\n",
              " ('сила', 'Case=Acc|Gender=Fem|Number=Plur'),\n",
              " ('цель', 'Case=Acc|Gender=Fem|Number=Sing'),\n",
              " ('существование', 'Case=Gen|Gender=Neut|Number=Sing'),\n",
              " ('цель', 'Case=Nom|Gender=Fem|Number=Sing'),\n",
              " ('принцип', 'Case=Acc|Gender=Masc|Number=Plur'),\n",
              " ('жизнь', 'Case=Loc|Gender=Fem|Number=Sing'),\n",
              " ('правило', 'Case=Nom|Gender=Neut|Number=Sing'),\n",
              " ('жизнь', 'Case=Loc|Gender=Fem|Number=Sing'),\n",
              " ('человек', 'Case=Gen|Gender=Masc|Number=Sing'),\n",
              " ('цель', 'Case=Loc|Gender=Fem|Number=Sing'),\n",
              " ('жизнь', 'Case=Gen|Gender=Fem|Number=Sing'),\n",
              " ('принцип', 'Case=Loc|Gender=Masc|Number=Plur'),\n",
              " ('жизнь', 'Case=Gen|Gender=Fem|Number=Sing'),\n",
              " ('поведение', 'Case=Loc|Gender=Neut|Number=Sing'),\n",
              " ('жизнь', 'Case=Acc|Gender=Fem|Number=Sing'),\n",
              " ('достоинство', 'Case=Ins|Gender=Neut|Number=Sing'),\n",
              " ('достоинство', 'Case=Nom|Gender=Neut|Number=Sing'),\n",
              " ('доброта', 'Case=Gen|Gender=Fem|Number=Sing'),\n",
              " ('великодушие', 'Case=Gen|Gender=Neut|Number=Sing'),\n",
              " ('умение', 'Case=Gen|Gender=Neut|Number=Sing'),\n",
              " ('эгоист', 'Case=Ins|Gender=Masc|Number=Sing'),\n",
              " ('друг', 'Case=Ins|Gender=Masc|Number=Sing'),\n",
              " ('радость', 'Case=Acc|Gender=Fem|Number=Sing'),\n",
              " ('помощь', 'Case=Loc|Gender=Fem|Number=Sing'),\n",
              " ('достоинство', 'Case=Gen|Gender=Neut|Number=Sing'),\n",
              " ('жизнь', 'Case=Gen|Gender=Fem|Number=Sing'),\n",
              " ('удовольствие', 'Case=Gen|Gender=Neut|Number=Plur'),\n",
              " ('ошибка', 'Case=Acc|Gender=Fem|Number=Sing'),\n",
              " ('человек', 'Case=Nom|Gender=Masc|Number=Sing'),\n",
              " ('человек', 'Case=Nom|Gender=Masc|Number=Plur'),\n",
              " ('деликатность', 'Case=Gen|Gender=Fem|Number=Sing'),\n",
              " ('жизнь', 'Case=Nom|Gender=Fem|Number=Sing'),\n",
              " ('творчество', 'Case=Nom|Gender=Neut|Number=Sing'),\n",
              " ('человек', 'Case=Nom|Gender=Masc|Number=Sing'),\n",
              " ('художник', 'Case=Ins|Gender=Masc|Number=Sing'),\n",
              " ('балерина', 'Case=Ins|Gender=Fem|Number=Sing'),\n",
              " ('учёный', 'Case=Ins|Gender=Masc|Number=Sing'),\n",
              " ('атмосфера', 'Case=Acc|Gender=Fem|Number=Sing'),\n",
              " ('человек', 'Case=Nom|Gender=Masc|Number=Sing'),\n",
              " ('атмосфера', 'Case=Acc|Gender=Fem|Number=Sing'),\n",
              " ('подозрительность', 'Case=Gen|Gender=Fem|Number=Sing'),\n",
              " ('молчание', 'Case=Gen|Gender=Neut|Number=Sing'),\n",
              " ('радость', 'Case=Acc|Gender=Fem|Number=Sing'),\n",
              " ('свет', 'Case=Acc|Gender=Masc|Number=Sing'),\n",
              " ('творчество', 'Case=Nom|Gender=Neut|Number=Sing')]"
            ]
          },
          "metadata": {},
          "execution_count": 13
        }
      ]
    },
    {
      "cell_type": "code",
      "source": [
        "def extract_variables(word):\n",
        "  variables = {\n",
        "      'Case': None,\n",
        "      'Gender': None,\n",
        "      'Number': None\n",
        "  }\n",
        "  key_value_pairs = word.split('|')\n",
        "  for pair in key_value_pairs:\n",
        "    key, value = pair.split('=')\n",
        "    variables[key] = value\n",
        "  return variables"
      ],
      "metadata": {
        "id": "knQhFEtHeevQ"
      },
      "execution_count": 21,
      "outputs": []
    },
    {
      "cell_type": "code",
      "source": [
        "all_sentence = sent_tokenize(text)\n",
        "all_sentence"
      ],
      "metadata": {
        "colab": {
          "base_uri": "https://localhost:8080/"
        },
        "id": "MroIfSFu95OO",
        "outputId": "cc3e58c8-edae-4e08-df2d-35d790240650"
      },
      "execution_count": 17,
      "outputs": [
        {
          "output_type": "execute_result",
          "data": {
            "text/plain": [
              "['Когда человек сознательно или интуитивно выбирает себе в жизни какую-то цель, жизненную задачу, он невольно дает себе оценку.',\n",
              " 'По тому, ради чего человек живет, можно судить и о его самооценке - низкой или высокой.',\n",
              " 'Если человек живет, чтобы приносить людям добро, облегчать их страдания, давать людям радость, то он оценивает себя на уровне этой своей человечности.',\n",
              " 'Он ставит себе цель, достойную человека.',\n",
              " 'Только такая цель позволяет человеку прожить свою жизнь с достоинством и получить настоящую радость.',\n",
              " 'Да, радость!',\n",
              " 'Подумайте: если человек ставит себе задачей увеличивать в жизни добро, приносить людям счастье, какие неудачи могут его постигнуть?',\n",
              " 'Не тому помочь?',\n",
              " 'Но много ли людей не нуждаются в помощи?',\n",
              " 'Если жить только для себя, своими мелкими заботами о собственном благополучии, то от прожитого не останется и следа.',\n",
              " 'Если же жить для других, то другие сберегут то, чему служил, чему отдавал силы.',\n",
              " 'Можно по-разному определять цель своего существования, но цель должна быть.',\n",
              " 'Надо иметь и принципы в жизни.',\n",
              " 'Одно правило в жизни должно быть у каждого человека, в его цели жизни, в его принципах жизни, в его поведении: надо прожить жизнь с достоинством, чтобы не стыдно было вспоминать.',\n",
              " 'Достоинство требует доброты, великодушия, умения не быть эгоистом, быть правдивым, хорошим другом, находить радость в помощи другим.',\n",
              " 'Ради достоинства жизни надо уметь отказываться от мелких удовольствий и немалых тоже… Уметь извиняться, признавать перед другими ошибку - лучше, чем врать.',\n",
              " 'Обманывая, человек прежде всего обманывает самого себя, ибо он думает, что успешно соврал, а люди поняли и из деликатности промолчали.',\n",
              " 'Жизнь - прежде всего творчество, но это не значит, что каждый человек, чтобы жить, должен родиться художником, балериной или ученым.',\n",
              " 'Можно творить просто добрую атмосферу вокруг себя.',\n",
              " 'Человек может принести с собой атмосферу подозрительности, какого-то тягостного молчания, а может внести сразу радость, свет.',\n",
              " 'Вот это и есть творчество.']"
            ]
          },
          "metadata": {},
          "execution_count": 17
        }
      ]
    },
    {
      "cell_type": "code",
      "source": [
        "pos = ['NOUN', 'ADJ']\n",
        "\n",
        "for sentence in all_sentence:\n",
        "  print(f\"Sentence: {sentence}\")\n",
        "  word_in_sentence = word_tokenize(sentence)\n",
        "  res = predictor.predict(word_in_sentence)\n",
        "\n",
        "  lemmas = []\n",
        "  for word in res:\n",
        "    nform = word.normal_form\n",
        "    if word.pos in pos:\n",
        "      lemmas.append((nform, word.tag))\n",
        "  matching_pairs = []\n",
        "  for i in range(len(lemmas) - 1):\n",
        "    word1 = lemmas[i][0]\n",
        "    tag1 = lemmas[i][1]\n",
        "\n",
        "    word2 = lemmas[i + 1][0]\n",
        "    tag2 = lemmas[i + 1][1]\n",
        "\n",
        "    t1 = extract_variables(tag1)\n",
        "    t2 = extract_variables(tag2)\n",
        "\n",
        "    if(t1['Case'] == t2['Case'] and t1['Gender'] == t2['Gender'] and t1['Number'] == t2['Number']):\n",
        "      matching_pairs.append((word1, word2))\n",
        "\n",
        "  for pair in matching_pairs:\n",
        "    print(\" \".join(pair))\n",
        "\n",
        "  print()"
      ],
      "metadata": {
        "colab": {
          "base_uri": "https://localhost:8080/"
        },
        "id": "JmKqEU-g990S",
        "outputId": "904d7be2-0761-4826-e78c-b81507b13e1f"
      },
      "execution_count": 25,
      "outputs": [
        {
          "output_type": "stream",
          "name": "stdout",
          "text": [
            "Sentence: Когда человек сознательно или интуитивно выбирает себе в жизни какую-то цель, жизненную задачу, он невольно дает себе оценку.\n",
            "1/1 [==============================] - 0s 94ms/step\n",
            "цель жизненный\n",
            "жизненный задача\n",
            "задача оценка\n",
            "\n",
            "Sentence: По тому, ради чего человек живет, можно судить и о его самооценке - низкой или высокой.\n",
            "1/1 [==============================] - 0s 38ms/step\n",
            "самооценка низкий\n",
            "низкий высокий\n",
            "\n",
            "Sentence: Если человек живет, чтобы приносить людям добро, облегчать их страдания, давать людям радость, то он оценивает себя на уровне этой своей человечности.\n",
            "1/1 [==============================] - 0s 43ms/step\n",
            "\n",
            "Sentence: Он ставит себе цель, достойную человека.\n",
            "1/1 [==============================] - 0s 42ms/step\n",
            "цель достойный\n",
            "\n",
            "Sentence: Только такая цель позволяет человеку прожить свою жизнь с достоинством и получить настоящую радость.\n",
            "1/1 [==============================] - 0s 40ms/step\n",
            "настоящий радость\n",
            "\n",
            "Sentence: Да, радость!\n",
            "1/1 [==============================] - 0s 31ms/step\n",
            "\n",
            "Sentence: Подумайте: если человек ставит себе задачей увеличивать в жизни добро, приносить людям счастье, какие неудачи могут его постигнуть?\n",
            "1/1 [==============================] - 0s 42ms/step\n",
            "\n",
            "Sentence: Не тому помочь?\n",
            "1/1 [==============================] - 0s 27ms/step\n",
            "\n",
            "Sentence: Но много ли людей не нуждаются в помощи?\n",
            "1/1 [==============================] - 0s 35ms/step\n",
            "\n",
            "Sentence: Если жить только для себя, своими мелкими заботами о собственном благополучии, то от прожитого не останется и следа.\n",
            "1/1 [==============================] - 0s 38ms/step\n",
            "собственный благополучие\n",
            "\n",
            "Sentence: Если же жить для других, то другие сберегут то, чему служил, чему отдавал силы.\n",
            "1/1 [==============================] - 0s 54ms/step\n",
            "\n",
            "Sentence: Можно по-разному определять цель своего существования, но цель должна быть.\n",
            "1/1 [==============================] - 0s 53ms/step\n",
            "\n",
            "Sentence: Надо иметь и принципы в жизни.\n",
            "1/1 [==============================] - 0s 49ms/step\n",
            "\n",
            "Sentence: Одно правило в жизни должно быть у каждого человека, в его цели жизни, в его принципах жизни, в его поведении: надо прожить жизнь с достоинством, чтобы не стыдно было вспоминать.\n",
            "1/1 [==============================] - 0s 83ms/step\n",
            "\n",
            "Sentence: Достоинство требует доброты, великодушия, умения не быть эгоистом, быть правдивым, хорошим другом, находить радость в помощи другим.\n",
            "1/1 [==============================] - 0s 76ms/step\n",
            "великодушие умение\n",
            "эгоист правдивый\n",
            "правдивый хороший\n",
            "хороший друг\n",
            "\n",
            "Sentence: Ради достоинства жизни надо уметь отказываться от мелких удовольствий и немалых тоже… Уметь извиняться, признавать перед другими ошибку - лучше, чем врать.\n",
            "1/1 [==============================] - 0s 88ms/step\n",
            "\n",
            "Sentence: Обманывая, человек прежде всего обманывает самого себя, ибо он думает, что успешно соврал, а люди поняли и из деликатности промолчали.\n",
            "1/1 [==============================] - 0s 64ms/step\n",
            "\n",
            "Sentence: Жизнь - прежде всего творчество, но это не значит, что каждый человек, чтобы жить, должен родиться художником, балериной или ученым.\n",
            "1/1 [==============================] - 0s 70ms/step\n",
            "\n",
            "Sentence: Можно творить просто добрую атмосферу вокруг себя.\n",
            "1/1 [==============================] - 0s 45ms/step\n",
            "добрый атмосфера\n",
            "\n",
            "Sentence: Человек может принести с собой атмосферу подозрительности, какого-то тягостного молчания, а может внести сразу радость, свет.\n",
            "1/1 [==============================] - 0s 60ms/step\n",
            "тягостный молчание\n",
            "\n",
            "Sentence: Вот это и есть творчество.\n",
            "1/1 [==============================] - 0s 49ms/step\n",
            "\n"
          ]
        }
      ]
    },
    {
      "cell_type": "markdown",
      "source": [
        "# Результаты лабы 1\n",
        "\n",
        "Sentence: Когда человек сознательно или интуитивно выбирает себе в жизни какую-то цель, жизненную задачу, он невольно дает себе оценку.\n",
        "\n",
        "задача оценка\n",
        "\n",
        "Sentence: По тому, ради чего человек живет, можно судить и о его самооценке - низкой или высокой.\n",
        "\n",
        "тот человек\n",
        "\n",
        "низкий высокий\n",
        "\n",
        "Sentence: Если человек живет, чтобы приносить людям добро, облегчать их страдания, давать людям радость, то он оценивает себя на уровне этой своей человечности.\n",
        "\n",
        "человек человек\n",
        "\n",
        "этот свой\n",
        "\n",
        "Sentence: Он ставит себе цель, достойную человека.\n",
        "\n",
        "достойный человек\n",
        "\n",
        "Sentence: Только такая цель позволяет человеку прожить свою жизнь с достоинством и получить настоящую радость.\n",
        "\n",
        "Sentence: Да, радость!\n",
        "\n",
        "Sentence: Подумайте: если человек ставит себе задачей увеличивать в жизни добро, приносить людям счастье, какие неудачи могут его постигнуть?\n",
        "\n",
        "Sentence: Не тому помочь?\n",
        "\n",
        "Sentence: Но много ли людей не нуждаются в помощи?\n",
        "\n",
        "Sentence: Если жить только для себя, своими мелкими заботами о собственном благополучии, то от прожитого не останется и следа.\n",
        "\n",
        "Sentence: Если же жить для других, то другие сберегут то, чему служил, чему отдавал силы.\n",
        "\n",
        "другой другой\n",
        "\n",
        "Sentence: Можно по-разному определять цель своего существования, но цель должна быть.\n",
        "\n",
        "Sentence: Надо иметь и принципы в жизни.\n",
        "\n",
        "Sentence: Одно правило в жизни должно быть у каждого человека, в его цели жизни, в его принципах жизни, в его поведении: надо прожить жизнь с достоинством, чтобы не стыдно было вспоминать.\n",
        "\n",
        "Sentence: Достоинство требует доброты, великодушия, умения не быть эгоистом, быть правдивым, хорошим другом, находить радость в помощи другим.\n",
        "\n",
        "великодушие умение\n",
        "\n",
        "эгоист правдивый\n",
        "\n",
        "правдивый хороший\n",
        "\n",
        "хороший друг\n",
        "\n",
        "радость помощь\n",
        "\n",
        "Sentence: Ради достоинства жизни надо уметь отказываться от мелких удовольствий и немалых тоже… Уметь извиняться, признавать перед другими ошибку - лучше, чем врать.\n",
        "\n",
        "Sentence: Обманывая, человек прежде всего обманывает самого себя, ибо он думает, что успешно соврал, а люди поняли и из деликатности промолчали.\n",
        "\n",
        "сам человек\n",
        "\n",
        "Sentence: Жизнь - прежде всего творчество, но это не значит, что каждый человек, чтобы жить, должен родиться художником, балериной или ученым.\n",
        "\n",
        "человек должный\n",
        "\n",
        "должный художник\n",
        "\n",
        "Sentence: Можно творить просто добрую атмосферу вокруг себя.\n",
        "\n",
        "Sentence: Человек может принести с собой атмосферу подозрительности, какого-то тягостного молчания, а может внести сразу радость, свет.\n",
        "\n",
        "атмосфера подозрительность\n",
        "\n",
        "Sentence: Вот это и есть творчество.\n",
        "\n"
      ],
      "metadata": {
        "id": "pIrwiTGUAjyy"
      }
    },
    {
      "cell_type": "markdown",
      "source": [
        "# Вывод\n",
        "Некоторые слова совпадают. Хотя в некоторые предложения оно очень хорошо работает чем результату первой лабы."
      ],
      "metadata": {
        "id": "zAKqnkc5AonA"
      }
    }
  ]
}
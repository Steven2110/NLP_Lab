{
 "cells": [
  {
   "cell_type": "code",
   "execution_count": 1,
   "metadata": {},
   "outputs": [
    {
     "name": "stdout",
     "output_type": "stream",
     "text": [
      "Requirement already satisfied: transformers in /Users/steven/anaconda3/lib/python3.11/site-packages (4.32.1)\n",
      "Requirement already satisfied: filelock in /Users/steven/anaconda3/lib/python3.11/site-packages (from transformers) (3.9.0)\n",
      "Requirement already satisfied: huggingface-hub<1.0,>=0.15.1 in /Users/steven/anaconda3/lib/python3.11/site-packages (from transformers) (0.15.1)\n",
      "Requirement already satisfied: numpy>=1.17 in /Users/steven/anaconda3/lib/python3.11/site-packages (from transformers) (1.24.3)\n",
      "Requirement already satisfied: packaging>=20.0 in /Users/steven/anaconda3/lib/python3.11/site-packages (from transformers) (23.1)\n",
      "Requirement already satisfied: pyyaml>=5.1 in /Users/steven/anaconda3/lib/python3.11/site-packages (from transformers) (6.0)\n",
      "Requirement already satisfied: regex!=2019.12.17 in /Users/steven/anaconda3/lib/python3.11/site-packages (from transformers) (2022.7.9)\n",
      "Requirement already satisfied: requests in /Users/steven/anaconda3/lib/python3.11/site-packages (from transformers) (2.31.0)\n",
      "Requirement already satisfied: tokenizers!=0.11.3,<0.14,>=0.11.1 in /Users/steven/anaconda3/lib/python3.11/site-packages (from transformers) (0.13.2)\n",
      "Requirement already satisfied: safetensors>=0.3.1 in /Users/steven/anaconda3/lib/python3.11/site-packages (from transformers) (0.3.2)\n",
      "Requirement already satisfied: tqdm>=4.27 in /Users/steven/anaconda3/lib/python3.11/site-packages (from transformers) (4.65.0)\n",
      "Requirement already satisfied: fsspec in /Users/steven/anaconda3/lib/python3.11/site-packages (from huggingface-hub<1.0,>=0.15.1->transformers) (2023.4.0)\n",
      "Requirement already satisfied: typing-extensions>=3.7.4.3 in /Users/steven/anaconda3/lib/python3.11/site-packages (from huggingface-hub<1.0,>=0.15.1->transformers) (4.7.1)\n",
      "Requirement already satisfied: charset-normalizer<4,>=2 in /Users/steven/anaconda3/lib/python3.11/site-packages (from requests->transformers) (2.0.4)\n",
      "Requirement already satisfied: idna<4,>=2.5 in /Users/steven/anaconda3/lib/python3.11/site-packages (from requests->transformers) (3.4)\n",
      "Requirement already satisfied: urllib3<3,>=1.21.1 in /Users/steven/anaconda3/lib/python3.11/site-packages (from requests->transformers) (1.26.16)\n",
      "Requirement already satisfied: certifi>=2017.4.17 in /Users/steven/anaconda3/lib/python3.11/site-packages (from requests->transformers) (2023.7.22)\n"
     ]
    }
   ],
   "source": [
    "!pip install transformers"
   ]
  },
  {
   "cell_type": "code",
   "execution_count": 3,
   "metadata": {},
   "outputs": [
    {
     "name": "stdout",
     "output_type": "stream",
     "text": [
      "Collecting torch\n",
      "  Obtaining dependency information for torch from https://files.pythonhosted.org/packages/5b/46/3def5bdaae03c21a7662673e6bda1f60a046afce48e0d6319ce4542bca31/torch-2.1.1-cp311-none-macosx_11_0_arm64.whl.metadata\n",
      "  Downloading torch-2.1.1-cp311-none-macosx_11_0_arm64.whl.metadata (25 kB)\n",
      "Requirement already satisfied: filelock in /Users/steven/anaconda3/lib/python3.11/site-packages (from torch) (3.9.0)\n",
      "Requirement already satisfied: typing-extensions in /Users/steven/anaconda3/lib/python3.11/site-packages (from torch) (4.7.1)\n",
      "Requirement already satisfied: sympy in /Users/steven/anaconda3/lib/python3.11/site-packages (from torch) (1.11.1)\n",
      "Requirement already satisfied: networkx in /Users/steven/anaconda3/lib/python3.11/site-packages (from torch) (3.1)\n",
      "Requirement already satisfied: jinja2 in /Users/steven/anaconda3/lib/python3.11/site-packages (from torch) (3.1.2)\n",
      "Requirement already satisfied: fsspec in /Users/steven/anaconda3/lib/python3.11/site-packages (from torch) (2023.4.0)\n",
      "Requirement already satisfied: MarkupSafe>=2.0 in /Users/steven/anaconda3/lib/python3.11/site-packages (from jinja2->torch) (2.1.1)\n",
      "Requirement already satisfied: mpmath>=0.19 in /Users/steven/anaconda3/lib/python3.11/site-packages (from sympy->torch) (1.3.0)\n",
      "Downloading torch-2.1.1-cp311-none-macosx_11_0_arm64.whl (59.6 MB)\n",
      "\u001b[2K   \u001b[90m━━━━━━━━━━━━━━━━━━━━━━━━━━━━━━━━━━━━━━━━\u001b[0m \u001b[32m59.6/59.6 MB\u001b[0m \u001b[31m5.5 MB/s\u001b[0m eta \u001b[36m0:00:00\u001b[0m00:01\u001b[0m00:01\u001b[0m\n",
      "\u001b[?25hInstalling collected packages: torch\n",
      "Successfully installed torch-2.1.1\n"
     ]
    }
   ],
   "source": [
    "!pip install torch"
   ]
  },
  {
   "cell_type": "code",
   "execution_count": 1,
   "metadata": {},
   "outputs": [
    {
     "data": {
      "text/plain": [
       "<torch._C.Generator at 0x1051215b0>"
      ]
     },
     "execution_count": 1,
     "metadata": {},
     "output_type": "execute_result"
    }
   ],
   "source": [
    "from sys import argv\n",
    "import numpy as np\n",
    "import torch\n",
    "from transformers import GPT2LMHeadModel, GPT2Tokenizer\n",
    "np.random.seed(42)\n",
    "torch.manual_seed(42)\n"
   ]
  },
  {
   "cell_type": "code",
   "execution_count": 3,
   "metadata": {},
   "outputs": [],
   "source": [
    "def generate(\n",
    "            model, tok, text,\n",
    "            do_sample=True, max_length=100, repetition_penalty=5.0,\n",
    "            top_k=5, top_p=0.95, temperature=1,\n",
    "            num_beams=None,\n",
    "            no_repeat_ngram_size=3\n",
    "            ):\n",
    "          input_ids = tok.encode(text, return_tensors=\"pt\")\n",
    "          print(model.generate.__globals__['__file__'])\n",
    "          out = model.generate(\n",
    "              input_ids,\n",
    "              max_length=max_length,\n",
    "              repetition_penalty=repetition_penalty,\n",
    "              do_sample=do_sample,\n",
    "              top_k=top_k, top_p=top_p, temperature=temperature,\n",
    "              num_beams=num_beams, no_repeat_ngram_size=no_repeat_ngram_size\n",
    "              )\n",
    "          return list(map(tok.decode, out))"
   ]
  },
  {
   "cell_type": "code",
   "execution_count": 4,
   "metadata": {},
   "outputs": [],
   "source": [
    "def load_tokenizer_and_model(model_name_or_path):\n",
    "  return GPT2Tokenizer.from_pretrained(model_name_or_path), GPT2LMHeadModel.from_pretrained(model_name_or_path)"
   ]
  },
  {
   "cell_type": "code",
   "execution_count": 5,
   "metadata": {},
   "outputs": [
    {
     "data": {
      "application/vnd.jupyter.widget-view+json": {
       "model_id": "ca35c2b80b2c429fbd82cd27c1e15801",
       "version_major": 2,
       "version_minor": 0
      },
      "text/plain": [
       "Downloading pytorch_model.bin:   0%|          | 0.00/3.14G [00:00<?, ?B/s]"
      ]
     },
     "metadata": {},
     "output_type": "display_data"
    }
   ],
   "source": [
    "tok, model = load_tokenizer_and_model(\"sberbank-ai/rugpt3large_based_on_gpt2\")\n",
    "#tok1, model1 = load_tokenizer_and_model(\"ai-forever/ruGPT-3.5-13B\")\n",
    "# Альтернативно \"ai-forever/ruGPT-3.5-13B\"\n"
   ]
  },
  {
   "cell_type": "code",
   "execution_count": 22,
   "metadata": {},
   "outputs": [],
   "source": [
    "t = \"Исследования показали, что аскорбина кислота имеет уникальные ?, спопобные улучшить здоровье кожи\""
   ]
  },
  {
   "cell_type": "code",
   "execution_count": 115,
   "metadata": {},
   "outputs": [],
   "source": [
    "t = \"Свойство?\""
   ]
  },
  {
   "cell_type": "code",
   "execution_count": 120,
   "metadata": {},
   "outputs": [
    {
     "name": "stdout",
     "output_type": "stream",
     "text": [
      "/Users/steven/anaconda3/lib/python3.11/site-packages/torch/utils/_contextlib.py\n",
      "свойство это?\n",
      "Смотря что считать свойством.<s>\n",
      "Что такое свойство, и как оно проявляется в жизни человека?\n",
      "Способность организма к самовоспроизведению (саморазвитию), т. е. способность воспроизводить себе подобные организмы с заданными параметрами жизнеобеспечения при минимальных затратах энергии на единицу биомассы [1]. Сущность этого свойства заключается в том, что любое живое существо обладает способностью воспроизведения себе подобных организмов без какого-либо вмешательства со стороны других живых существ или каких-либо факторов внешней среды. При этом саморазвитие живого существа происходит независимо от того, какие условия окружающей среды воздействуют на него: солнечная радиация, повышенная влажность воздуха, пониженная температура - все эти факторы не оказывают существенного влияния на его жизнедеятельность. В то же время любые неблагоприятные внешние воздействия могут привести к тому, что живой организм прекратит свое существование из-за недостатка питательных веществ либо по каким-то другим\n"
     ]
    }
   ],
   "source": [
    "t = \"свойство это?\"\n",
    "generated = generate(model, tok,text= t, num_beams=10, max_length=200, repetition_penalty=10.0)\n",
    "print(generated[0])"
   ]
  },
  {
   "cell_type": "code",
   "execution_count": 122,
   "metadata": {},
   "outputs": [
    {
     "name": "stdout",
     "output_type": "stream",
     "text": [
      "/Users/steven/anaconda3/lib/python3.11/site-packages/torch/utils/_contextlib.py\n",
      "как использовать слово свойство?\n",
      "Свойство - это часть речи, обозначающая признак предмета или признака явления. Свойства могут быть выражены существительными в именительном падеже (существительные мужского и среднего рода), а также прилагательными с суффиксом -ов (-ев-).<s>\n",
      "Какие есть однокоренные слова к слову свойства?\n",
      "Однокоренных слов к слову СВОЙСТВА не так много как может показаться на первый взгляд. Однокоренными словами будут следующие: 1) Способность; 2) Приспособленность; 3) Сообразительность; 4) Усидчивость; 5) Настойчивость; 6) Терпение; 7) Смелость; 8) Заботливость; 9) Внимательность; 10) Общительность; 11) Порядочность; 12) Доброжелательность; 13) Дружелюбие; 14) Справедливость; 15) Вежливость; 16) Расторопность; 17\n"
     ]
    }
   ],
   "source": [
    "t = \"как использовать слово свойство?\"\n",
    "generated = generate(model, tok,text= t, num_beams=10, max_length=200, repetition_penalty=10.0)\n",
    "print(generated[0])"
   ]
  },
  {
   "cell_type": "code",
   "execution_count": 123,
   "metadata": {},
   "outputs": [
    {
     "name": "stdout",
     "output_type": "stream",
     "text": [
      "/Users/steven/anaconda3/lib/python3.11/site-packages/torch/utils/_contextlib.py\n",
      "как использовать слово свойство в лекарствах?\n",
      "Свойство - это то, что отличает одно лекарство от другого.<s>\n",
      "Что делать если я не могу зайти на сервер майнкрафт 1.5.2???\n",
      "Попробуй переустановить игру или скачай другой репак!<s>\n",
      "Помогите пожалуйста решить задачу по алгебре за 7 класс!!! Заранее спасибо!!!\n",
      "1) х+3у=140 2) у-4х = 140 3) 140 : 4 = 60 (км/ч) Ответ: 60 км/ч скорость движения велосипедиста и мотоциклиста во второй половине дня; 120 км/час расстояние между ними с учетом того, что один из них ехал со скоростью 80 км/ ч а его товарищ двигался со скоростью 90 км/ час В первой половине дня оба двигались со средней скоростью 40 м/с Во второй половине они ехали со скоростями 70–80м/с Ускорение свободного падения равно 0,8*10^\n"
     ]
    }
   ],
   "source": [
    "t = \"как использовать слово свойство в лекарствах?\"\n",
    "generated = generate(model, tok,text= t, num_beams=10, max_length=200, repetition_penalty=10.0)\n",
    "print(generated[0])"
   ]
  },
  {
   "cell_type": "code",
   "execution_count": 142,
   "metadata": {},
   "outputs": [
    {
     "name": "stdout",
     "output_type": "stream",
     "text": [
      "/Users/steven/anaconda3/lib/python3.11/site-packages/torch/utils/_contextlib.py\n",
      "как укрепляет имунитет? можно с berocca plus?\n",
      "Витамины группы В, С, Е, РР, аскорбиновая кислота, кальций, магний, фосфор, цинк, калий, натрий, железо, марганец, медь, селен, йод.<s>\n",
      "Какие витамины и микроэлементы необходимы для укрепления иммунитета? Можно ли с берберека?\n",
      "Берберек - это травянистое растение, которое произрастает в Южной Африке. В его состав входит большое количество витаминов, микроэлементов и аминокислот. Витамин В1, В2, В3, В4, В5, В6, В7, В8, В9, В10, В11, В12, В13, В14, В15, В16, В17, В18, В19, В20, В21, В22, В23\n"
     ]
    }
   ],
   "source": [
    "t = \"как укрепляет имунитет? можно с berocca plus?\"\n",
    "generated = generate(model, tok,text= t, num_beams=10, max_length=200, repetition_penalty=1.0)\n",
    "print(generated[0])"
   ]
  },
  {
   "cell_type": "code",
   "execution_count": 137,
   "metadata": {},
   "outputs": [
    {
     "name": "stdout",
     "output_type": "stream",
     "text": [
      "/Users/steven/anaconda3/lib/python3.11/site-packages/torch/utils/_contextlib.py\n",
      "что такое аскорбиновая кислота и его влияние?\n",
      "Аскорбинка - это витамин С, который содержится в цитрусовых, яблоках, апельсинах, грейпфрутах, мандаринах, лимонах, персиках, абрикосах, смородине, вишне, черемухе, облепихе, рябине, крыжовнике, малины, клубнике, землянике, малине, ежевике, чернике, голубике, бруснике, клюкве, брусничном листке, малиновом листочке, малиновых ягодках, брусничных листочках, клюквенных ягодках и т. д. Витамины группы В (В1, В2, В3, В4, В5, В6, В7, В8, В9, В10, В11, В12, В13, В14, В15, В16\n"
     ]
    }
   ],
   "source": [
    "t = \"что такое аскорбиновая кислота и его влияние?\"\n",
    "generated = generate(model, tok,text= t, num_beams=10, max_length=200, repetition_penalty=1.0)\n",
    "print(generated[0])"
   ]
  },
  {
   "cell_type": "code",
   "execution_count": 88,
   "metadata": {},
   "outputs": [
    {
     "name": "stdout",
     "output_type": "stream",
     "text": [
      "/Users/steven/anaconda3/lib/python3.11/site-packages/torch/utils/_contextlib.py\n",
      "Что такое аскорбиновая кислота? какое свойство влияет?\n",
      "Аскорбинка - это витамин С, который содержится в цитрусовых. Витамин С помогает организму бороться с простудными заболеваниями и укрепляет иммунитет. Аскорбиновой кислотой богаты все цитрусовые: апельсины, мандарины, грейпфруты, лимоны, яблоки, груши, персики, абрикосы, сливы, вишня, смородина, малина, клубника, земляника, ежевика, черника, клюква, брусника, голубика, рябина, черемуха, калина, шиповник, облепиха, виноград, томаты, огурцы, капуста, морковь, свекла, лук, чеснок, петрушка, укроп, базилик, сельдерей, салат, шпинат, спаржа, горох, бобы, фасоль, чечевица, кукуруза, соя,\n"
     ]
    }
   ],
   "source": [
    "generated1 = generate(model, tok,text= t, num_beams=10, max_length=200)\n",
    "#generated1 = generate(model, tok,text= t, num_beams=20)\n",
    "print(generated1[0])"
   ]
  }
 ],
 "metadata": {
  "kernelspec": {
   "display_name": "base",
   "language": "python",
   "name": "python3"
  },
  "language_info": {
   "codemirror_mode": {
    "name": "ipython",
    "version": 3
   },
   "file_extension": ".py",
   "mimetype": "text/x-python",
   "name": "python",
   "nbconvert_exporter": "python",
   "pygments_lexer": "ipython3",
   "version": "3.11.5"
  }
 },
 "nbformat": 4,
 "nbformat_minor": 2
}

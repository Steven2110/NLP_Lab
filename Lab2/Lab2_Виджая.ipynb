{
 "cells": [
  {
   "cell_type": "code",
   "execution_count": 1,
   "metadata": {},
   "outputs": [
    {
     "name": "stdout",
     "output_type": "stream",
     "text": [
      "Requirement already satisfied: gensim in /Users/steven/anaconda3/lib/python3.11/site-packages (4.3.0)\n",
      "Requirement already satisfied: numpy>=1.18.5 in /Users/steven/anaconda3/lib/python3.11/site-packages (from gensim) (1.24.3)\n",
      "Requirement already satisfied: scipy>=1.7.0 in /Users/steven/anaconda3/lib/python3.11/site-packages (from gensim) (1.11.1)\n",
      "Requirement already satisfied: smart-open>=1.8.1 in /Users/steven/anaconda3/lib/python3.11/site-packages (from gensim) (5.2.1)\n",
      "Collecting FuzzyTM>=0.4.0 (from gensim)\n",
      "  Downloading FuzzyTM-2.0.5-py3-none-any.whl (29 kB)\n",
      "Requirement already satisfied: pandas in /Users/steven/anaconda3/lib/python3.11/site-packages (from FuzzyTM>=0.4.0->gensim) (2.0.3)\n",
      "Collecting pyfume (from FuzzyTM>=0.4.0->gensim)\n",
      "  Downloading pyFUME-0.2.25-py3-none-any.whl (67 kB)\n",
      "\u001b[2K     \u001b[90m━━━━━━━━━━━━━━━━━━━━━━━━━━━━━━━━━━━━━━━\u001b[0m \u001b[32m67.1/67.1 kB\u001b[0m \u001b[31m632.1 kB/s\u001b[0m eta \u001b[36m0:00:00\u001b[0m \u001b[36m0:00:01\u001b[0m\n",
      "\u001b[?25hRequirement already satisfied: python-dateutil>=2.8.2 in /Users/steven/anaconda3/lib/python3.11/site-packages (from pandas->FuzzyTM>=0.4.0->gensim) (2.8.2)\n",
      "Requirement already satisfied: pytz>=2020.1 in /Users/steven/anaconda3/lib/python3.11/site-packages (from pandas->FuzzyTM>=0.4.0->gensim) (2023.3.post1)\n",
      "Requirement already satisfied: tzdata>=2022.1 in /Users/steven/anaconda3/lib/python3.11/site-packages (from pandas->FuzzyTM>=0.4.0->gensim) (2023.3)\n",
      "Collecting simpful (from pyfume->FuzzyTM>=0.4.0->gensim)\n",
      "  Obtaining dependency information for simpful from https://files.pythonhosted.org/packages/8d/93/8448d3f1aa9d2911b8cba2602aaa1af85eb31a26d28b7b737f1fa5b40c02/simpful-2.11.1-py3-none-any.whl.metadata\n",
      "  Downloading simpful-2.11.1-py3-none-any.whl.metadata (4.8 kB)\n",
      "Collecting fst-pso (from pyfume->FuzzyTM>=0.4.0->gensim)\n",
      "  Downloading fst-pso-1.8.1.tar.gz (18 kB)\n",
      "  Preparing metadata (setup.py) ... \u001b[?25ldone\n",
      "\u001b[?25hRequirement already satisfied: six>=1.5 in /Users/steven/anaconda3/lib/python3.11/site-packages (from python-dateutil>=2.8.2->pandas->FuzzyTM>=0.4.0->gensim) (1.16.0)\n",
      "Collecting miniful (from fst-pso->pyfume->FuzzyTM>=0.4.0->gensim)\n",
      "  Downloading miniful-0.0.6.tar.gz (2.8 kB)\n",
      "  Preparing metadata (setup.py) ... \u001b[?25ldone\n",
      "\u001b[?25hDownloading simpful-2.11.1-py3-none-any.whl (32 kB)\n",
      "Building wheels for collected packages: fst-pso, miniful\n",
      "  Building wheel for fst-pso (setup.py) ... \u001b[?25ldone\n",
      "\u001b[?25h  Created wheel for fst-pso: filename=fst_pso-1.8.1-py3-none-any.whl size=20430 sha256=322da631c295508380008f9cd0028e17f1b2cc9f33c98c088b21cd0ac0f2cf53\n",
      "  Stored in directory: /Users/steven/Library/Caches/pip/wheels/69/f5/e5/18ad53fe1ed6b2af9fad05ec052e4acbac8e92441df44bad2e\n",
      "  Building wheel for miniful (setup.py) ... \u001b[?25ldone\n",
      "\u001b[?25h  Created wheel for miniful: filename=miniful-0.0.6-py3-none-any.whl size=3513 sha256=b8f1d49bce8654c6ebb7436d340b6847e5153b56c02d39d5c61f8ba194db6898\n",
      "  Stored in directory: /Users/steven/Library/Caches/pip/wheels/9d/ff/2f/afe4cd56f47de147407705626517d68bea0f3b74eb1fb168e6\n",
      "Successfully built fst-pso miniful\n",
      "Installing collected packages: simpful, miniful, fst-pso, pyfume, FuzzyTM\n",
      "Successfully installed FuzzyTM-2.0.5 fst-pso-1.8.1 miniful-0.0.6 pyfume-0.2.25 simpful-2.11.1\n"
     ]
    }
   ],
   "source": [
    "!pip install gensim"
   ]
  },
  {
   "cell_type": "code",
   "execution_count": 2,
   "metadata": {},
   "outputs": [],
   "source": [
    "import gensim\n",
    "import re"
   ]
  },
  {
   "cell_type": "code",
   "execution_count": 3,
   "metadata": {},
   "outputs": [],
   "source": [
    "pat = re.compile(\"(.*)_NOUN\")"
   ]
  },
  {
   "cell_type": "code",
   "execution_count": 4,
   "metadata": {},
   "outputs": [],
   "source": [
    "word2vec = gensim.models.KeyedVectors.load_word2vec_format(\"cbow.txt\", binary=False, encoding='utf-8')"
   ]
  },
  {
   "cell_type": "markdown",
   "metadata": {},
   "source": [
    "Нужно сделать так чтобы слова \"соус\" и \"пирог\" появилось в генерируемым тексте"
   ]
  },
  {
   "cell_type": "code",
   "execution_count": 14,
   "metadata": {},
   "outputs": [],
   "source": [
    "word1 = 'соус_NOUN'\n",
    "word2 = 'пирог_NOUN'"
   ]
  },
  {
   "cell_type": "code",
   "execution_count": 15,
   "metadata": {},
   "outputs": [
    {
     "name": "stdout",
     "output_type": "stream",
     "text": [
      "0.42341208\n"
     ]
    }
   ],
   "source": [
    "similarity = word2vec.similarity(word1, word2)\n",
    "print(similarity)"
   ]
  },
  {
   "cell_type": "code",
   "execution_count": 16,
   "metadata": {},
   "outputs": [
    {
     "name": "stdout",
     "output_type": "stream",
     "text": [
      "подливка_NOUN: 0.7442\n"
     ]
    }
   ],
   "source": [
    "result = word2vec.similar_by_word(word1)\n",
    "most_similar_key, similarity = result[0]\n",
    "print(f\"{most_similar_key}: {similarity:.4f}\")"
   ]
  },
  {
   "cell_type": "code",
   "execution_count": 17,
   "metadata": {},
   "outputs": [
    {
     "name": "stdout",
     "output_type": "stream",
     "text": [
      "пирога_NOUN: 0.8363\n"
     ]
    }
   ],
   "source": [
    "result = word2vec.similar_by_word(word2)\n",
    "most_similar_key, similarity = result[0]\n",
    "print(f\"{most_similar_key}: {similarity:.4f}\")"
   ]
  },
  {
   "cell_type": "code",
   "execution_count": 97,
   "metadata": {},
   "outputs": [
    {
     "name": "stdout",
     "output_type": "stream",
     "text": [
      "подливка 0.7442396879196167\n",
      "гарнир 0.6899886131286621\n",
      "филе 0.6650230288505554\n",
      "рагу 0.6541227698326111\n",
      "блюдо 0.6477885842323303\n",
      "салат 0.6465410590171814\n",
      "маринада 0.6429233551025391\n",
      "десерт 0.640424907207489\n",
      "приправа 0.6382641196250916\n",
      "пюре 0.6351027488708496\n",
      "ростбиф 0.6335530877113342\n",
      "запеканка 0.6289421319961548\n",
      "специя 0.6278029084205627\n",
      "трюфель 0.6257482171058655\n",
      "маринад 0.6223803162574768\n",
      "пармезан 0.6201159954071045\n",
      "осетрина 0.618714451789856\n",
      "омлет 0.617813229560852\n",
      "горчица 0.6162394285202026\n"
     ]
    }
   ],
   "source": [
    "result = word2vec.similar_by_word(word1, topn=20)\n",
    "for i in result:\n",
    "    e = pat.match(i[0])\n",
    "    if e is not None:\n",
    "        print(e.group(1), i[1])"
   ]
  },
  {
   "cell_type": "code",
   "execution_count": 92,
   "metadata": {},
   "outputs": [
    {
     "name": "stdout",
     "output_type": "stream",
     "text": [
      "пирога 0.8362691402435303\n",
      "пирожок 0.7093430757522583\n",
      "кулебяка 0.6982733011245728\n",
      "ватрушка 0.6974579095840454\n",
      "оладья 0.6820998191833496\n",
      "блин 0.6650131940841675\n",
      "кулич 0.6555278301239014\n",
      "коржик 0.634498655796051\n",
      "пряженец 0.6326996684074402\n",
      "вязигой 0.6255769729614258\n",
      "калач 0.6211866736412048\n",
      "пышка 0.6195060610771179\n",
      "буженина 0.6111767888069153\n",
      "торт 0.6104004979133606\n",
      "кутья 0.6032559275627136\n",
      "хачапури 0.5972987413406372\n"
     ]
    }
   ],
   "source": [
    "result = word2vec.similar_by_word(word2, topn=20)\n",
    "for i in result:\n",
    "    e = pat.match(i[0])\n",
    "    if e is not None:\n",
    "        print(e.group(1), i[1])"
   ]
  },
  {
   "cell_type": "code",
   "execution_count": 201,
   "metadata": {},
   "outputs": [
    {
     "name": "stdout",
     "output_type": "stream",
     "text": [
      "довесок\n",
      "оформление\n",
      "имитатор\n",
      "наполнение\n",
      "декомпозиция\n",
      "интеллектуализация\n"
     ]
    }
   ],
   "source": [
    "pos = [\"гарнир_NOUN\"]\n",
    "neg = [\"соус_NOUN\"]\n",
    "dist = word2vec.most_similar(positive=pos, negative=neg, topn=15)\n",
    "for i in dist:\n",
    "    e = pat.match(i[0])\n",
    "    if e is not None:\n",
    "        print(e.group(1))   "
   ]
  },
  {
   "cell_type": "code",
   "execution_count": 200,
   "metadata": {},
   "outputs": [
    {
     "name": "stdout",
     "output_type": "stream",
     "text": [
      "фиксация\n",
      "заполнение\n",
      "актуализация\n",
      "вживание\n",
      "выравнивание\n",
      "сужение\n",
      "содержание\n",
      "опускание\n",
      "высвобождение\n"
     ]
    }
   ],
   "source": [
    "pos = [\"наполнение_NOUN\"]\n",
    "neg = [\"пирог_NOUN\"]\n",
    "dist = word2vec.most_similar(positive=pos, negative=neg, topn=10)\n",
    "for i in dist:\n",
    "    e = pat.match(i[0])\n",
    "    if e is not None:\n",
    "        print(e.group(1))   "
   ]
  },
  {
   "cell_type": "code",
   "execution_count": 204,
   "metadata": {},
   "outputs": [
    {
     "name": "stdout",
     "output_type": "stream",
     "text": [
      "кушанье\n",
      "яство\n",
      "десерт\n",
      "котлета\n",
      "деликатес\n",
      "повар\n",
      "лакомство\n",
      "пирог\n",
      "рагу\n",
      "соус\n"
     ]
    }
   ],
   "source": [
    "pos = [\"блюдо_NOUN\"]\n",
    "neg = [\"фиксация_NOUN\"]\n",
    "dist = word2vec.most_similar(positive=pos, negative=neg, topn=11)\n",
    "for i in dist:\n",
    "    e = pat.match(i[0])\n",
    "    if e is not None:\n",
    "        print(e.group(1))   "
   ]
  }
 ],
 "metadata": {
  "kernelspec": {
   "display_name": "base",
   "language": "python",
   "name": "python3"
  },
  "language_info": {
   "codemirror_mode": {
    "name": "ipython",
    "version": 3
   },
   "file_extension": ".py",
   "mimetype": "text/x-python",
   "name": "python",
   "nbconvert_exporter": "python",
   "pygments_lexer": "ipython3",
   "version": "3.11.5"
  }
 },
 "nbformat": 4,
 "nbformat_minor": 2
}

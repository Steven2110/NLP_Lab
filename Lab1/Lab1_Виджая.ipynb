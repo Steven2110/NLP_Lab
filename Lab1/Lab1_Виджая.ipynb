{
  "nbformat": 4,
  "nbformat_minor": 0,
  "metadata": {
    "colab": {
      "provenance": []
    },
    "kernelspec": {
      "name": "python3",
      "display_name": "Python 3"
    },
    "language_info": {
      "name": "python"
    }
  },
  "cells": [
    {
      "cell_type": "code",
      "source": [
        "from google.colab import drive\n",
        "drive.mount('/content/drive')"
      ],
      "metadata": {
        "colab": {
          "base_uri": "https://localhost:8080/"
        },
        "id": "iLH5vap2zntR",
        "outputId": "8876080c-4f3d-4e86-ccd6-1e6c47ef1897"
      },
      "execution_count": 1,
      "outputs": [
        {
          "output_type": "stream",
          "name": "stdout",
          "text": [
            "Mounted at /content/drive\n"
          ]
        }
      ]
    },
    {
      "cell_type": "code",
      "source": [
        "import nltk\n",
        "from nltk.tokenize import word_tokenize"
      ],
      "metadata": {
        "id": "7mFIw6TO3F5t"
      },
      "execution_count": 2,
      "outputs": []
    },
    {
      "cell_type": "code",
      "source": [
        "from nltk import sent_tokenize"
      ],
      "metadata": {
        "id": "5UibJO7f3uKW"
      },
      "execution_count": 3,
      "outputs": []
    },
    {
      "cell_type": "code",
      "source": [
        "!pip install pymorphy2"
      ],
      "metadata": {
        "colab": {
          "base_uri": "https://localhost:8080/"
        },
        "id": "k3IpeQSv3_af",
        "outputId": "62274150-e014-4817-abc4-c408561f2348"
      },
      "execution_count": 4,
      "outputs": [
        {
          "output_type": "stream",
          "name": "stdout",
          "text": [
            "Collecting pymorphy2\n",
            "  Downloading pymorphy2-0.9.1-py3-none-any.whl (55 kB)\n",
            "\u001b[?25l     \u001b[90m━━━━━━━━━━━━━━━━━━━━━━━━━━━━━━━━━━━━━━━━\u001b[0m \u001b[32m0.0/55.5 kB\u001b[0m \u001b[31m?\u001b[0m eta \u001b[36m-:--:--\u001b[0m\r\u001b[2K     \u001b[90m━━━━━━━━━━━━━━━━━━━━━━━━━━━━━━━━━━━━━━━━\u001b[0m \u001b[32m55.5/55.5 kB\u001b[0m \u001b[31m1.6 MB/s\u001b[0m eta \u001b[36m0:00:00\u001b[0m\n",
            "\u001b[?25hCollecting dawg-python>=0.7.1 (from pymorphy2)\n",
            "  Downloading DAWG_Python-0.7.2-py2.py3-none-any.whl (11 kB)\n",
            "Collecting pymorphy2-dicts-ru<3.0,>=2.4 (from pymorphy2)\n",
            "  Downloading pymorphy2_dicts_ru-2.4.417127.4579844-py2.py3-none-any.whl (8.2 MB)\n",
            "\u001b[2K     \u001b[90m━━━━━━━━━━━━━━━━━━━━━━━━━━━━━━━━━━━━━━━━\u001b[0m \u001b[32m8.2/8.2 MB\u001b[0m \u001b[31m41.2 MB/s\u001b[0m eta \u001b[36m0:00:00\u001b[0m\n",
            "\u001b[?25hCollecting docopt>=0.6 (from pymorphy2)\n",
            "  Downloading docopt-0.6.2.tar.gz (25 kB)\n",
            "  Preparing metadata (setup.py) ... \u001b[?25l\u001b[?25hdone\n",
            "Building wheels for collected packages: docopt\n",
            "  Building wheel for docopt (setup.py) ... \u001b[?25l\u001b[?25hdone\n",
            "  Created wheel for docopt: filename=docopt-0.6.2-py2.py3-none-any.whl size=13705 sha256=b9f668f1c306e322802d530b88b57da6498e45533f603c840798a31fb40b4ad9\n",
            "  Stored in directory: /root/.cache/pip/wheels/fc/ab/d4/5da2067ac95b36618c629a5f93f809425700506f72c9732fac\n",
            "Successfully built docopt\n",
            "Installing collected packages: pymorphy2-dicts-ru, docopt, dawg-python, pymorphy2\n",
            "Successfully installed dawg-python-0.7.2 docopt-0.6.2 pymorphy2-0.9.1 pymorphy2-dicts-ru-2.4.417127.4579844\n"
          ]
        }
      ]
    },
    {
      "cell_type": "code",
      "source": [
        "import pymorphy2"
      ],
      "metadata": {
        "id": "9mEKJsOQ38da"
      },
      "execution_count": 5,
      "outputs": []
    },
    {
      "cell_type": "code",
      "source": [
        "nltk.download('punkt')\n",
        "print(word_tokenize(\"Типа текст.\"))"
      ],
      "metadata": {
        "colab": {
          "base_uri": "https://localhost:8080/"
        },
        "id": "q5ePPacM3Pmb",
        "outputId": "e88afaae-c03e-4eaa-9814-ec00849af42b"
      },
      "execution_count": 6,
      "outputs": [
        {
          "output_type": "stream",
          "name": "stderr",
          "text": [
            "[nltk_data] Downloading package punkt to /root/nltk_data...\n",
            "[nltk_data]   Unzipping tokenizers/punkt.zip.\n"
          ]
        },
        {
          "output_type": "stream",
          "name": "stdout",
          "text": [
            "['Типа', 'текст', '.']\n"
          ]
        }
      ]
    },
    {
      "cell_type": "code",
      "source": [
        "print(sent_tokenize(\"Типа текст. Не, серьёзно.\"))"
      ],
      "metadata": {
        "colab": {
          "base_uri": "https://localhost:8080/"
        },
        "id": "xOraijNe3xIk",
        "outputId": "47e8bbb7-8baf-4a7b-ab2e-9ae4b39ae90f"
      },
      "execution_count": 7,
      "outputs": [
        {
          "output_type": "stream",
          "name": "stdout",
          "text": [
            "['Типа текст.', 'Не, серьёзно.']\n"
          ]
        }
      ]
    },
    {
      "cell_type": "code",
      "source": [
        "m = pymorphy2.MorphAnalyzer()\n",
        "w = m.parse(\"университетов\")[0]\n",
        "print(w.normal_form)"
      ],
      "metadata": {
        "colab": {
          "base_uri": "https://localhost:8080/"
        },
        "id": "gS9pAKaT37DR",
        "outputId": "4ef071f5-3858-4ea4-f82a-2f962ce748c8"
      },
      "execution_count": 8,
      "outputs": [
        {
          "output_type": "stream",
          "name": "stdout",
          "text": [
            "университет\n"
          ]
        }
      ]
    },
    {
      "cell_type": "code",
      "source": [
        "root = '/content/drive/MyDrive/Lab_NLP/Lab1/'\n",
        "filename = 'text.txt'"
      ],
      "metadata": {
        "id": "IsUOslKn6Cql"
      },
      "execution_count": 73,
      "outputs": []
    },
    {
      "cell_type": "code",
      "source": [
        "f = open(root+filename)"
      ],
      "metadata": {
        "id": "AGMHqljW6VVH"
      },
      "execution_count": 74,
      "outputs": []
    },
    {
      "cell_type": "code",
      "source": [
        "text = f.read()\n",
        "text"
      ],
      "metadata": {
        "colab": {
          "base_uri": "https://localhost:8080/",
          "height": 122
        },
        "id": "bati9njS6cfC",
        "outputId": "8f473de8-e917-4227-8290-515970d34f2f"
      },
      "execution_count": 75,
      "outputs": [
        {
          "output_type": "execute_result",
          "data": {
            "text/plain": [
              "'Когда человек сознательно или интуитивно выбирает себе в жизни какую-то цель, жизненную задачу, он невольно дает себе оценку. По тому, ради чего человек живет, можно судить и о его самооценке - низкой или высокой.\\n\\nЕсли человек живет, чтобы приносить людям добро, облегчать их страдания, давать людям радость, то он оценивает себя на уровне этой своей человечности. Он ставит себе цель, достойную человека.\\n\\nТолько такая цель позволяет человеку прожить свою жизнь с достоинством и получить настоящую радость. Да, радость! Подумайте: если человек ставит себе задачей увеличивать в жизни добро, приносить людям счастье, какие неудачи могут его постигнуть? Не тому помочь? Но много ли людей не нуждаются в помощи?\\n\\nЕсли жить только для себя, своими мелкими заботами о собственном благополучии, то от прожитого не останется и следа. Если же жить для других, то другие сберегут то, чему служил, чему отдавал силы.\\n\\nМожно по-разному определять цель своего существования, но цель должна быть. Надо иметь и принципы в жизни. Одно правило в жизни должно быть у каждого человека, в его цели жизни, в его принципах жизни, в его поведении: надо прожить жизнь с достоинством, чтобы не стыдно было вспоминать.\\n\\nДостоинство требует доброты, великодушия, умения не быть эгоистом, быть правдивым, хорошим другом, находить радость в помощи другим.\\n\\nРади достоинства жизни надо уметь отказываться от мелких удовольствий и немалых тоже… Уметь извиняться, признавать перед другими ошибку - лучше, чем врать.\\n\\nОбманывая, человек прежде всего обманывает самого себя, ибо он думает, что успешно соврал, а люди поняли и из деликатности промолчали.\\n\\nЖизнь - прежде всего творчество, но это не значит, что каждый человек, чтобы жить, должен родиться художником, балериной или ученым. Можно творить просто добрую атмосферу вокруг себя. Человек может принести с собой атмосферу подозрительности, какого-то тягостного молчания, а может внести сразу радость, свет. Вот это и есть творчество.'"
            ],
            "application/vnd.google.colaboratory.intrinsic+json": {
              "type": "string"
            }
          },
          "metadata": {},
          "execution_count": 75
        }
      ]
    },
    {
      "cell_type": "code",
      "source": [
        "f.close()"
      ],
      "metadata": {
        "id": "R10vGbee6jpq"
      },
      "execution_count": 76,
      "outputs": []
    },
    {
      "cell_type": "code",
      "source": [
        "all_word = word_tokenize(text)"
      ],
      "metadata": {
        "id": "Zwu5BTSp6vHw"
      },
      "execution_count": 77,
      "outputs": []
    },
    {
      "cell_type": "code",
      "source": [
        "all_sentence = sent_tokenize(text)\n",
        "all_sentence"
      ],
      "metadata": {
        "colab": {
          "base_uri": "https://localhost:8080/"
        },
        "id": "GnIjBDJm68I9",
        "outputId": "9d4ca036-60d5-451b-9358-d9f8e6ec4b76"
      },
      "execution_count": 78,
      "outputs": [
        {
          "output_type": "execute_result",
          "data": {
            "text/plain": [
              "['Когда человек сознательно или интуитивно выбирает себе в жизни какую-то цель, жизненную задачу, он невольно дает себе оценку.',\n",
              " 'По тому, ради чего человек живет, можно судить и о его самооценке - низкой или высокой.',\n",
              " 'Если человек живет, чтобы приносить людям добро, облегчать их страдания, давать людям радость, то он оценивает себя на уровне этой своей человечности.',\n",
              " 'Он ставит себе цель, достойную человека.',\n",
              " 'Только такая цель позволяет человеку прожить свою жизнь с достоинством и получить настоящую радость.',\n",
              " 'Да, радость!',\n",
              " 'Подумайте: если человек ставит себе задачей увеличивать в жизни добро, приносить людям счастье, какие неудачи могут его постигнуть?',\n",
              " 'Не тому помочь?',\n",
              " 'Но много ли людей не нуждаются в помощи?',\n",
              " 'Если жить только для себя, своими мелкими заботами о собственном благополучии, то от прожитого не останется и следа.',\n",
              " 'Если же жить для других, то другие сберегут то, чему служил, чему отдавал силы.',\n",
              " 'Можно по-разному определять цель своего существования, но цель должна быть.',\n",
              " 'Надо иметь и принципы в жизни.',\n",
              " 'Одно правило в жизни должно быть у каждого человека, в его цели жизни, в его принципах жизни, в его поведении: надо прожить жизнь с достоинством, чтобы не стыдно было вспоминать.',\n",
              " 'Достоинство требует доброты, великодушия, умения не быть эгоистом, быть правдивым, хорошим другом, находить радость в помощи другим.',\n",
              " 'Ради достоинства жизни надо уметь отказываться от мелких удовольствий и немалых тоже… Уметь извиняться, признавать перед другими ошибку - лучше, чем врать.',\n",
              " 'Обманывая, человек прежде всего обманывает самого себя, ибо он думает, что успешно соврал, а люди поняли и из деликатности промолчали.',\n",
              " 'Жизнь - прежде всего творчество, но это не значит, что каждый человек, чтобы жить, должен родиться художником, балериной или ученым.',\n",
              " 'Можно творить просто добрую атмосферу вокруг себя.',\n",
              " 'Человек может принести с собой атмосферу подозрительности, какого-то тягостного молчания, а может внести сразу радость, свет.',\n",
              " 'Вот это и есть творчество.']"
            ]
          },
          "metadata": {},
          "execution_count": 78
        }
      ]
    },
    {
      "cell_type": "code",
      "source": [
        "def is_adjective_or_noun(word):\n",
        "  parsed_word = m.parse(word)[0]\n",
        "  return 'NOUN' in parsed_word.tag or 'ADJF' in parsed_word.tag or 'ADJS' in parsed_word.tag"
      ],
      "metadata": {
        "id": "6cALJDLhvdlF"
      },
      "execution_count": 79,
      "outputs": []
    },
    {
      "cell_type": "code",
      "source": [
        "def check_gender_number_cases(word1, word2):\n",
        "  word1_parsed = m.parse(word1)[0].tag\n",
        "  word2_parsed = m.parse(word2)[0].tag\n",
        "\n",
        "  word1_gender = word1_parsed.gender\n",
        "  word2_gender = word2_parsed.gender\n",
        "\n",
        "  word1_number = word1_parsed.number\n",
        "  word2_number = word2_parsed.number\n",
        "\n",
        "  word1_case = word1_parsed.case\n",
        "  word2_case = word2_parsed.case\n",
        "\n",
        "  return (word1_gender == word2_gender) and (word1_number == word2_number) and (word1_case == word2_case)"
      ],
      "metadata": {
        "id": "m_vQ26aaxgm0"
      },
      "execution_count": 80,
      "outputs": []
    },
    {
      "cell_type": "code",
      "source": [
        "# ['Эта книга адресована всем, кто изучает русский язык.']\n",
        "for sentence in all_sentence:\n",
        "  print(f\"Sentence: {sentence}\")\n",
        "  word_in_sentence = word_tokenize(sentence)\n",
        "\n",
        "  lemmas = []\n",
        "  for word in word_in_sentence:\n",
        "    parsed_word = m.parse(word)[0]\n",
        "    if is_adjective_or_noun(word):\n",
        "        lemmas.append(parsed_word.normal_form)\n",
        "  matching_pairs = []\n",
        "  for i in range(len(lemmas) - 1):\n",
        "    currentWord = lemmas[i]\n",
        "    nextWord = lemmas[i + 1]\n",
        "    if is_adjective_or_noun(currentWord) and is_adjective_or_noun(nextWord) and check_gender_number_cases(currentWord, nextWord):\n",
        "      currentWord_norm = m.parse(currentWord)[0].normal_form\n",
        "      nextWord_norm = m.parse(nextWord)[0].normal_form\n",
        "      matching_pairs.append((currentWord_norm, nextWord_norm))\n",
        "\n",
        "  for pair in matching_pairs:\n",
        "    print(\" \".join(pair))\n",
        "\n",
        "  print()"
      ],
      "metadata": {
        "colab": {
          "base_uri": "https://localhost:8080/"
        },
        "id": "zUlHbyBF7AH7",
        "outputId": "a9d70dae-f3d0-42b1-93e5-769300b1cc8a"
      },
      "execution_count": 81,
      "outputs": [
        {
          "output_type": "stream",
          "name": "stdout",
          "text": [
            "Sentence: Когда человек сознательно или интуитивно выбирает себе в жизни какую-то цель, жизненную задачу, он невольно дает себе оценку.\n",
            "задача оценка\n",
            "\n",
            "Sentence: По тому, ради чего человек живет, можно судить и о его самооценке - низкой или высокой.\n",
            "тот человек\n",
            "низкий высокий\n",
            "\n",
            "Sentence: Если человек живет, чтобы приносить людям добро, облегчать их страдания, давать людям радость, то он оценивает себя на уровне этой своей человечности.\n",
            "человек человек\n",
            "этот свой\n",
            "\n",
            "Sentence: Он ставит себе цель, достойную человека.\n",
            "достойный человек\n",
            "\n",
            "Sentence: Только такая цель позволяет человеку прожить свою жизнь с достоинством и получить настоящую радость.\n",
            "\n",
            "Sentence: Да, радость!\n",
            "\n",
            "Sentence: Подумайте: если человек ставит себе задачей увеличивать в жизни добро, приносить людям счастье, какие неудачи могут его постигнуть?\n",
            "\n",
            "Sentence: Не тому помочь?\n",
            "\n",
            "Sentence: Но много ли людей не нуждаются в помощи?\n",
            "\n",
            "Sentence: Если жить только для себя, своими мелкими заботами о собственном благополучии, то от прожитого не останется и следа.\n",
            "\n",
            "Sentence: Если же жить для других, то другие сберегут то, чему служил, чему отдавал силы.\n",
            "другой другой\n",
            "\n",
            "Sentence: Можно по-разному определять цель своего существования, но цель должна быть.\n",
            "\n",
            "Sentence: Надо иметь и принципы в жизни.\n",
            "\n",
            "Sentence: Одно правило в жизни должно быть у каждого человека, в его цели жизни, в его принципах жизни, в его поведении: надо прожить жизнь с достоинством, чтобы не стыдно было вспоминать.\n",
            "\n",
            "Sentence: Достоинство требует доброты, великодушия, умения не быть эгоистом, быть правдивым, хорошим другом, находить радость в помощи другим.\n",
            "великодушие умение\n",
            "эгоист правдивый\n",
            "правдивый хороший\n",
            "хороший друг\n",
            "радость помощь\n",
            "\n",
            "Sentence: Ради достоинства жизни надо уметь отказываться от мелких удовольствий и немалых тоже… Уметь извиняться, признавать перед другими ошибку - лучше, чем врать.\n",
            "\n",
            "Sentence: Обманывая, человек прежде всего обманывает самого себя, ибо он думает, что успешно соврал, а люди поняли и из деликатности промолчали.\n",
            "сам человек\n",
            "\n",
            "Sentence: Жизнь - прежде всего творчество, но это не значит, что каждый человек, чтобы жить, должен родиться художником, балериной или ученым.\n",
            "человек должный\n",
            "должный художник\n",
            "\n",
            "Sentence: Можно творить просто добрую атмосферу вокруг себя.\n",
            "\n",
            "Sentence: Человек может принести с собой атмосферу подозрительности, какого-то тягостного молчания, а может внести сразу радость, свет.\n",
            "атмосфера подозрительность\n",
            "\n",
            "Sentence: Вот это и есть творчество.\n",
            "\n"
          ]
        }
      ]
    }
  ]
}